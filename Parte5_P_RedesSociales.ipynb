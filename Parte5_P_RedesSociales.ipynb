{
 "cells": [
  {
   "cell_type": "markdown",
   "metadata": {},
   "source": [
    "<center><img src=\"http://alacip.org/wp-content/uploads/2014/03/logoEscalacip1.png\" width=\"500\"></center>\n",
    "\n",
    "\n",
    "<center> <h1>Curso: Introducción al Python</h1> </center>\n",
    "\n",
    "<br></br>\n",
    "\n",
    "* Profesor:  <a href=\"http://www.pucp.edu.pe/profesor/jose-manuel-magallanes/\" target=\"_blank\">Dr. José Manuel Magallanes, PhD</a> ([jmagallanes@pucp.edu.pe](mailto:jmagallanes@pucp.edu.pe))<br>\n",
    "    - Profesor del **Departamento de Ciencias Sociales, Pontificia Universidad Católica del Peru**.<br>\n",
    "    - Senior Data Scientist del **eScience Institute** and Visiting Professor at **Evans School of Public Policy and Governance, University of Washington**.<br>\n",
    "    - Fellow Catalyst, **Berkeley Initiative for Transparency in Social Sciences, UC Berkeley**.\n",
    "\n",
    "\n",
    "## Parte 6:  Redes sociales en Python"
   ]
  },
  {
   "cell_type": "markdown",
   "metadata": {},
   "source": [
    "Finalmente, veamos como usar información de Twitter para analizar redes sociales:"
   ]
  },
  {
   "cell_type": "markdown",
   "metadata": {},
   "source": [
    "<a id='part1'></a>\n",
    "## 1. Llamando al API"
   ]
  },
  {
   "cell_type": "code",
   "execution_count": null,
   "metadata": {},
   "outputs": [],
   "source": [
    "import json\n",
    "\n",
    "# get the security info from file\n",
    "keysAPI = json.load(open('data/keysAPI.txt','r'))\n",
    "\n",
    "import tweepy\n",
    "\n",
    "# recovering security info\n",
    "consumer_key = keysAPI['consumer_key']\n",
    "consumer_secret = keysAPI['consumer_secret']\n",
    "access_token = keysAPI['access_token']\n",
    "access_token_secret = keysAPI['access_token_secret']\n",
    "\n",
    "auth = tweepy.OAuthHandler(consumer_key, consumer_secret)\n",
    "auth.set_access_token(access_token, access_token_secret)\n",
    "api=tweepy.API(auth, retry_count=5,\n",
    "               retry_delay=10,\n",
    "               retry_errors=set([401, 404, 500, 503]),\n",
    "               wait_on_rate_limit=True,\n",
    "               wait_on_rate_limit_notify=True,\n",
    "               parser=tweepy.parsers.JSONParser())"
   ]
  },
  {
   "cell_type": "markdown",
   "metadata": {},
   "source": [
    "## 2. Armando la red"
   ]
  },
  {
   "cell_type": "markdown",
   "metadata": {},
   "source": [
    "1. Usemos **networkx** para armar la red:"
   ]
  },
  {
   "cell_type": "code",
   "execution_count": null,
   "metadata": {},
   "outputs": [],
   "source": [
    "import networkx as nx\n",
    "\n",
    "amix = nx.DiGraph()"
   ]
  },
  {
   "cell_type": "markdown",
   "metadata": {},
   "source": [
    "2. Indiquemos los NODOS de la red:"
   ]
  },
  {
   "cell_type": "code",
   "execution_count": null,
   "metadata": {},
   "outputs": [],
   "source": [
    "famosos=['pontifex_es','ernestosamperp','mbachelet','NicolasMaduro','mashirafael','lopezobrador_','realDonaldTrump',\n",
    "        'ppkamigo','evoespueblo','jairbolsonaro']\n"
   ]
  },
  {
   "cell_type": "markdown",
   "metadata": {},
   "source": [
    "3. Creemos todas las combinaciones:"
   ]
  },
  {
   "cell_type": "code",
   "execution_count": null,
   "metadata": {},
   "outputs": [],
   "source": [
    "import itertools\n",
    "\n",
    "pares=itertools.combinations(famosos,2)"
   ]
  },
  {
   "cell_type": "markdown",
   "metadata": {},
   "source": [
    "4. Para cada par, veamos quien sigue a quien:"
   ]
  },
  {
   "cell_type": "code",
   "execution_count": null,
   "metadata": {},
   "outputs": [],
   "source": [
    "for poli_1,poli_2 in pares:\n",
    "    \n",
    "    Amistad=api.show_friendship(source_screen_name=poli_1,target_screen_name=poli_2)\n",
    "    realAmistad=Amistad['relationship']['source']['following'], Amistad['relationship']['target']['following']    \n",
    "    \n",
    "    # se siguen mutuamente\n",
    "    if realAmistad[0] and realAmistad[1]:\n",
    "        amix.add_edge(poli_1, poli_2, color='r',weight=6)\n",
    "        amix.add_edge(poli_2, poli_1, color='r',weight=6)\n",
    "\n",
    "    # poli1 sigue a poli2\n",
    "    if realAmistad[0] and not realAmistad[1]:\n",
    "        amix.add_edge(poli_1, poli_2,color='grey',weight=2)\n",
    "\n",
    "    # poli2 sigue a poli1\n",
    "    if not realAmistad[0] and realAmistad[1]:\n",
    "        amix.add_edge(poli_2, poli_1,color='grey',weight=2)"
   ]
  },
  {
   "cell_type": "markdown",
   "metadata": {},
   "source": [
    "5. Guardemos la red"
   ]
  },
  {
   "cell_type": "code",
   "execution_count": null,
   "metadata": {},
   "outputs": [],
   "source": [
    "nx.write_gexf(amix, \"amistades.gexf\")"
   ]
  },
  {
   "cell_type": "markdown",
   "metadata": {},
   "source": [
    "6. Llamemos al archivo creado:"
   ]
  },
  {
   "cell_type": "code",
   "execution_count": null,
   "metadata": {},
   "outputs": [],
   "source": [
    "from urllib.request import urlopen\n",
    "data = urlopen('https://raw.githubusercontent.com/escuela-alacip/introPython/master/amistades.gexf')\n",
    "laNet=nx.read_gexf(data)"
   ]
  },
  {
   "cell_type": "markdown",
   "metadata": {},
   "source": [
    "## 3. Visualizando la red"
   ]
  },
  {
   "cell_type": "code",
   "execution_count": null,
   "metadata": {},
   "outputs": [],
   "source": [
    "# vis basica:\n",
    "\n",
    "import matplotlib.pyplot as plot\n",
    "\n",
    "%matplotlib inline \n",
    "\n",
    "\n",
    "plot.figure(figsize=(8,8)) \n",
    "\n",
    "\n",
    "nx.draw_kamada_kawai(laNet,arrows =True,with_labels=True)"
   ]
  },
  {
   "cell_type": "code",
   "execution_count": null,
   "metadata": {},
   "outputs": [],
   "source": [
    "# vis detallada:\n",
    "\n",
    "pos = nx.circular_layout(laNet)\n",
    "\n",
    "edges = laNet.edges(data=True)\n",
    "\n",
    "colors = [c['color'] for [u,v,c] in laNet.edges(data=True)]\n",
    "\n",
    "weights = [c['weight'] for [u,v,c] in laNet.edges(data=True)]\n",
    "\n",
    "plot.figure(figsize=(8,8)) \n",
    "nx.draw(laNet, pos, edges=edges, edge_color=colors, width=weights,with_labels=True)"
   ]
  },
  {
   "cell_type": "markdown",
   "metadata": {},
   "source": [
    "### Explorando la red"
   ]
  },
  {
   "cell_type": "code",
   "execution_count": null,
   "metadata": {},
   "outputs": [],
   "source": [
    "#numero de nodes\n",
    "len(laNet.nodes())"
   ]
  },
  {
   "cell_type": "code",
   "execution_count": null,
   "metadata": {},
   "outputs": [],
   "source": [
    "#numero de edges\n",
    "len(laNet.edges())"
   ]
  },
  {
   "cell_type": "code",
   "execution_count": null,
   "metadata": {},
   "outputs": [],
   "source": [
    "# Density: \n",
    "#de 0 a 1, donde 1 es 'complete' network\n",
    "nx.density(laNet) "
   ]
  },
  {
   "cell_type": "code",
   "execution_count": null,
   "metadata": {},
   "outputs": [],
   "source": [
    "# Clustering coefficient de un nodo mide que tan conectadas estan mis vecinos inmediatos.\n",
    "# Este es el promedio de esa medida.\n",
    "nx.average_clustering(laNet)"
   ]
  },
  {
   "cell_type": "markdown",
   "metadata": {},
   "source": [
    "* **Random networks** tienen  *small shortest path* y *small clustering coefficient*."
   ]
  },
  {
   "cell_type": "code",
   "execution_count": null,
   "metadata": {},
   "outputs": [],
   "source": [
    "# Transitivity\n",
    "\n",
    "# que tan probable es que dos nodos con algun nodo en común también estén conectados:\n",
    "nx.transitivity(laNet)"
   ]
  },
  {
   "cell_type": "code",
   "execution_count": null,
   "metadata": {},
   "outputs": [],
   "source": [
    "# Assortativity (degree)\n",
    "\n",
    "# Si está cerca a 1 indica que los nodos tienden a conectarse a los más populares.\n",
    "# Cerca a -1 indica lo contrario. Cerca a 0 indica que no hay assortativity\n",
    "nx.degree_assortativity_coefficient(laNet)"
   ]
  },
  {
   "cell_type": "code",
   "execution_count": null,
   "metadata": {},
   "outputs": [],
   "source": [
    "#Central nodes: degree\n",
    "\n",
    "from operator import itemgetter\n",
    "NodeInDegree=sorted(laNet.in_degree(), key=itemgetter(1),reverse=True)\n",
    "NodeInDegree[:5]"
   ]
  },
  {
   "cell_type": "code",
   "execution_count": null,
   "metadata": {},
   "outputs": [],
   "source": [
    "NodeOutDegree=sorted(laNet.out_degree(), key=itemgetter(1),reverse=True)\n",
    "NodeOutDegree[:5]"
   ]
  },
  {
   "cell_type": "code",
   "execution_count": null,
   "metadata": {},
   "outputs": [],
   "source": [
    "# Computing centrality measures:\n",
    "degrI=nx.in_degree_centrality(laNet)  \n",
    "degrO=nx.out_degree_centrality(laNet) \n",
    "clos=nx.closeness_centrality(laNet) # \"rapides\" de acceso a los demas\n",
    "betw=nx.betweenness_centrality(laNet) # \"puente\" en la red"
   ]
  },
  {
   "cell_type": "code",
   "execution_count": null,
   "metadata": {},
   "outputs": [],
   "source": [
    "import pandas as pd # measures into a data frame:\n",
    "Centrality=[ [famoso, degrI[famoso],degrO[famoso],clos[famoso],betw[famoso]] for famoso in laNet]\n",
    "headers=['Famoso','InDegree','OutDegree','Closeness','Betweenness']\n",
    "DFCentrality=pd.DataFrame(Centrality,columns=headers)"
   ]
  },
  {
   "cell_type": "code",
   "execution_count": null,
   "metadata": {},
   "outputs": [],
   "source": [
    "DFCentrality"
   ]
  },
  {
   "cell_type": "markdown",
   "metadata": {},
   "source": [
    "_____\n",
    "\n",
    "**AUSPICIO**: \n",
    "\n",
    "* El desarrollo de estos contenidos ha sido posible gracias al grant del Berkeley Initiative for Transparency in the Social Sciences (BITSS) at the Center for Effective Global Action (CEGA) at the University of California, Berkeley\n",
    "\n",
    "\n",
    "<center>\n",
    "<img src=\"https://www.bitss.org/wp-content/uploads/2015/07/bitss-55a55026v1_site_icon.png\" style=\"width: 200px;\"/>\n",
    "</center>\n",
    "\n",
    "* Este curso cuenta con el auspicio de:\n",
    "\n",
    "\n",
    "<center>\n",
    "<img src=\"https://www.python.org/static/img/psf-logo@2x.png\" style=\"width: 500px;\"/>\n",
    "</center>\n",
    "\n",
    "\n",
    "\n",
    "**RECONOCIMIENTO**\n",
    "\n",
    "\n",
    "EL Dr. Magallanes agradece a la Pontificia Universidad Católica del Perú, por su apoyo en la participación en la Escuela ALACIP.\n",
    "\n",
    "<center>\n",
    "<img src=\"https://dci.pucp.edu.pe/wp-content/uploads/2014/02/Logotipo_colores-290x145.jpg\" style=\"width: 400px;\"/>\n",
    "</center>\n",
    "\n",
    "\n",
    "El autor reconoce el apoyo que el eScience Institute de la Universidad de Washington le ha brindado desde el 2015 para desarrollar su investigación en Ciencia de Datos.\n",
    "\n",
    "<center>\n",
    "<img src=\"https://escience.washington.edu/wp-content/uploads/2015/10/eScience_Logo_HR.png\" style=\"width: 500px;\"/>\n",
    "</center>\n",
    "\n",
    "<br>\n",
    "<br>"
   ]
  }
 ],
 "metadata": {
  "hide_input": false,
  "kernelspec": {
   "display_name": "Python 3",
   "language": "python",
   "name": "python3"
  },
  "language_info": {
   "codemirror_mode": {
    "name": "ipython",
    "version": 3
   },
   "file_extension": ".py",
   "mimetype": "text/x-python",
   "name": "python",
   "nbconvert_exporter": "python",
   "pygments_lexer": "ipython3",
   "version": "3.6.8"
  }
 },
 "nbformat": 4,
 "nbformat_minor": 1
}
