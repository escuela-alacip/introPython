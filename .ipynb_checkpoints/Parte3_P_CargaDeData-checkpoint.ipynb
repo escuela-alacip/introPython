{
 "cells": [
  {
   "cell_type": "markdown",
   "metadata": {},
   "source": [
    "<center><img src=\"http://alacip.org/wp-content/uploads/2014/03/logoEscalacip1.png\" width=\"500\"></center>\n",
    "\n",
    "\n",
    "<center> <h1>Curso: Introducción al Python</h1> </center>\n",
    "\n",
    "<br></br>\n",
    "\n",
    "* Profesor:  <a href=\"http://www.pucp.edu.pe/profesor/jose-manuel-magallanes/\" target=\"_blank\">Dr. José Manuel Magallanes, PhD</a> ([jmagallanes@pucp.edu.pe](mailto:jmagallanes@pucp.edu.pe))<br>\n",
    "    - Profesor del **Departamento de Ciencias Sociales, Pontificia Universidad Católica del Peru**.<br>\n",
    "    - Senior Data Scientist del **eScience Institute** and Visiting Professor at **Evans School of Public Policy and Governance, University of Washington**.<br>\n",
    "    - Fellow Catalyst, **Berkeley Initiative for Transparency in Social Sciences, UC Berkeley**.\n",
    "    \n",
    "    \n",
    "## Parte 3:  Carga de datos en Python"
   ]
  },
  {
   "cell_type": "markdown",
   "metadata": {},
   "source": [
    "<a id='beginning'></a>\n",
    "\n",
    "En esta sección veremos diversas opciones para cargar / colectar datos en Python:\n",
    "\n",
    "1. [Propietary software.](#part1) \n",
    "2. [Google Forms.](#part2) \n",
    "3. [Uso de APIs.](#part3) \n",
    "4. [Scrapeo de tablas.](#part4) \n"
   ]
  },
  {
   "cell_type": "markdown",
   "metadata": {},
   "source": [
    "\n",
    "____\n",
    "\n",
    "\n",
    "<a id='part1'></a>\n",
    "## Data de  propietary / common software\n",
    "\n",
    "La mejor recomendación es que sus datos esten almacenados en algun lugar de la web. Y si está en su computadora, que esté en la misma carpeta donde estás escribiendo el código. En nuestro caso, todo esta en Github. "
   ]
  },
  {
   "cell_type": "code",
   "execution_count": null,
   "metadata": {},
   "outputs": [],
   "source": [
    "import pandas as pd"
   ]
  },
  {
   "cell_type": "markdown",
   "metadata": {},
   "source": [
    "Voy a descargar un archivo en stata, del American National Election Studies (ANES). Y me interesan unas variables en particular:"
   ]
  },
  {
   "cell_type": "code",
   "execution_count": null,
   "metadata": {},
   "outputs": [],
   "source": [
    "varsOfInterest=[\"libcpre_self\",\"libcpo_self\"]"
   ]
  },
  {
   "cell_type": "markdown",
   "metadata": {},
   "source": [
    "Pandas se encargará:"
   ]
  },
  {
   "cell_type": "code",
   "execution_count": null,
   "metadata": {},
   "outputs": [],
   "source": [
    "linkToFileDTA=\"https://github.com/escuela-alacip/introPython/raw/master/data/anes_timeseries_2012.dta\"\n",
    "\n",
    "dataStata=pd.read_stata(linkToFileDTA,columns=varsOfInterest)"
   ]
  },
  {
   "cell_type": "code",
   "execution_count": null,
   "metadata": {},
   "outputs": [],
   "source": [
    "dataStata.head()"
   ]
  },
  {
   "cell_type": "markdown",
   "metadata": {},
   "source": [
    "Si tiene el archivo en Excel:"
   ]
  },
  {
   "cell_type": "code",
   "execution_count": null,
   "metadata": {},
   "outputs": [],
   "source": [
    "## asegurese de ener instalado la libreria: xlrd\n",
    "linkToFileXLSX=\"https://github.com/escuela-alacip/introPython/raw/master/data/ElectricBus.xlsx\"\n",
    "dataExcel=pd.read_excel(linkToFileXLSX,0) # no need for '0'\n",
    "dataExcel.head()"
   ]
  },
  {
   "cell_type": "markdown",
   "metadata": {},
   "source": [
    "Los CSV son muy sencillos de cargar:"
   ]
  },
  {
   "cell_type": "code",
   "execution_count": null,
   "metadata": {},
   "outputs": [],
   "source": [
    "linkToFileCSV=\"https://github.com/escuela-alacip/introPython/raw/master/data/mealSeattle.csv\"\n",
    "\n",
    "dataCSV=pd.read_csv(linkToFileCSV)\n",
    "dataCSV.head()"
   ]
  },
  {
   "cell_type": "markdown",
   "metadata": {},
   "source": [
    "Si tienes varios archivos, con nombres similares, puedes abrirlos asi:"
   ]
  },
  {
   "cell_type": "code",
   "execution_count": null,
   "metadata": {},
   "outputs": [],
   "source": [
    "where='https://github.com/escuela-alacip/introPython/raw/master/data/'\n",
    "\n",
    "allNames=[where+\"interview_1_2_p\"+str(i)+\".csv\" for i in range(1,5)]"
   ]
  },
  {
   "cell_type": "code",
   "execution_count": null,
   "metadata": {},
   "outputs": [],
   "source": [
    "# solo los links\n",
    "allNames"
   ]
  },
  {
   "cell_type": "code",
   "execution_count": null,
   "metadata": {},
   "outputs": [],
   "source": [
    "# abrir y hacer lista con ellos\n",
    "\n",
    "allFiles=[]\n",
    "for filename in allNames:\n",
    "    allFiles.append(pd.read_csv(filename))"
   ]
  },
  {
   "cell_type": "code",
   "execution_count": null,
   "metadata": {},
   "outputs": [],
   "source": [
    "#el primero\n",
    "allFiles[0]"
   ]
  },
  {
   "cell_type": "markdown",
   "metadata": {},
   "source": [
    "Concatenarlos:"
   ]
  },
  {
   "cell_type": "code",
   "execution_count": null,
   "metadata": {},
   "outputs": [],
   "source": [
    "pd.concat(allFiles[0:4],ignore_index=True)"
   ]
  },
  {
   "cell_type": "code",
   "execution_count": null,
   "metadata": {},
   "outputs": [],
   "source": [
    "# guardando lo hecho:\n",
    "newOneFile=pd.concat(allFiles[0:4],ignore_index=True)"
   ]
  },
  {
   "cell_type": "markdown",
   "metadata": {},
   "source": [
    "Hay otro, pero requiere **merge**:"
   ]
  },
  {
   "cell_type": "code",
   "execution_count": null,
   "metadata": {},
   "outputs": [],
   "source": [
    "lastQ_file=pd.read_csv(\"https://github.com/escuela-alacip/introPython/raw/master/data/interview_finalQ.csv\")"
   ]
  },
  {
   "cell_type": "code",
   "execution_count": null,
   "metadata": {},
   "outputs": [],
   "source": [
    "lastQ_file"
   ]
  },
  {
   "cell_type": "code",
   "execution_count": null,
   "metadata": {},
   "outputs": [],
   "source": [
    "newOneFile=newOneFile.merge(lastQ_file,left_on='interview', right_on='interview') # innecesario aqui"
   ]
  },
  {
   "cell_type": "code",
   "execution_count": null,
   "metadata": {},
   "outputs": [],
   "source": [
    "# the result\n",
    "newOneFile.head()"
   ]
  },
  {
   "cell_type": "markdown",
   "metadata": {},
   "source": [
    "[Go to page beginning](#beginning)\n",
    "\n",
    "_____\n",
    "\n",
    "<a id='part2'></a>\n",
    "\n",
    "## Colectando con GoogleForms\n",
    "\n",
    "Aqui seguiremos algunos pasos:\n",
    "\n",
    "* Crearé un GForm.\n",
    "* Lo compartiré con Uds.\n",
    "* Abriremos los respuestas."
   ]
  },
  {
   "cell_type": "code",
   "execution_count": null,
   "metadata": {},
   "outputs": [],
   "source": [
    "#link=''\n",
    "#myData = pd.read_csv(link)\n",
    "\n",
    "# here it is:\n",
    "#myData"
   ]
  },
  {
   "cell_type": "markdown",
   "metadata": {},
   "source": [
    "[Go to page beginning](#beginning)\n",
    "\n",
    "-----\n",
    "\n",
    "<a id='part3'></a>\n",
    "\n",
    "## Collecting data from APIs\n",
    "\n",
    "Los poratales de datos abiertos tiene APIs que permiten descargar datos con facilidad. En general, un buen portal te indica cómo hacerlo. Veamos la data de llamadas 9-1-1 sobre incendios de [Seattle](https://dev.socrata.com/foundry/data.seattle.gov/kzjm-xkqj):"
   ]
  },
  {
   "cell_type": "code",
   "execution_count": 9,
   "metadata": {},
   "outputs": [],
   "source": [
    "import requests\n",
    "import pandas as pd\n",
    "\n",
    "# where is it online?\n",
    "url = \"https://data.seattle.gov/resource/kzjm-xkqj.json\"\n",
    "\n",
    "# Go for the data:\n",
    "response = requests.get(url)\n",
    "\n",
    "# If we got the data:\n",
    "if response.status_code == 200:\n",
    "    data911 = response.json()"
   ]
  },
  {
   "cell_type": "code",
   "execution_count": 10,
   "metadata": {},
   "outputs": [
    {
     "data": {
      "text/plain": [
       "200"
      ]
     },
     "execution_count": 10,
     "metadata": {},
     "output_type": "execute_result"
    }
   ],
   "source": [
    "response.status_code"
   ]
  },
  {
   "cell_type": "code",
   "execution_count": 12,
   "metadata": {},
   "outputs": [],
   "source": [
    "# You can turn it easily into a pandas data frame:\n",
    "\n",
    "data911DF=pd.DataFrame(data911)"
   ]
  },
  {
   "cell_type": "code",
   "execution_count": 13,
   "metadata": {},
   "outputs": [
    {
     "data": {
      "text/html": [
       "<div>\n",
       "<style scoped>\n",
       "    .dataframe tbody tr th:only-of-type {\n",
       "        vertical-align: middle;\n",
       "    }\n",
       "\n",
       "    .dataframe tbody tr th {\n",
       "        vertical-align: top;\n",
       "    }\n",
       "\n",
       "    .dataframe thead th {\n",
       "        text-align: right;\n",
       "    }\n",
       "</style>\n",
       "<table border=\"1\" class=\"dataframe\">\n",
       "  <thead>\n",
       "    <tr style=\"text-align: right;\">\n",
       "      <th></th>\n",
       "      <th>:@computed_region_2day_rhn5</th>\n",
       "      <th>:@computed_region_cyqu_gs94</th>\n",
       "      <th>:@computed_region_kuhn_3gp2</th>\n",
       "      <th>:@computed_region_q256_3sug</th>\n",
       "      <th>:@computed_region_ru88_fbhk</th>\n",
       "      <th>address</th>\n",
       "      <th>datetime</th>\n",
       "      <th>incident_number</th>\n",
       "      <th>latitude</th>\n",
       "      <th>longitude</th>\n",
       "      <th>report_location</th>\n",
       "      <th>type</th>\n",
       "    </tr>\n",
       "  </thead>\n",
       "  <tbody>\n",
       "    <tr>\n",
       "      <th>0</th>\n",
       "      <td>NaN</td>\n",
       "      <td>NaN</td>\n",
       "      <td>49</td>\n",
       "      <td>18795</td>\n",
       "      <td>41</td>\n",
       "      <td>4700 Sw Admiral Way</td>\n",
       "      <td>2019-06-06T04:45:00.000</td>\n",
       "      <td>F190058688</td>\n",
       "      <td>47.581214</td>\n",
       "      <td>-122.391903</td>\n",
       "      <td>{'type': 'Point', 'coordinates': [-122.391903,...</td>\n",
       "      <td>Aid Response</td>\n",
       "    </tr>\n",
       "    <tr>\n",
       "      <th>1</th>\n",
       "      <td>NaN</td>\n",
       "      <td>NaN</td>\n",
       "      <td>24</td>\n",
       "      <td>18081</td>\n",
       "      <td>14</td>\n",
       "      <td>6th Av / Pine St</td>\n",
       "      <td>2019-06-20T00:38:00.000</td>\n",
       "      <td>F190064315</td>\n",
       "      <td>47.612136</td>\n",
       "      <td>-122.335373</td>\n",
       "      <td>{'type': 'Point', 'coordinates': [-122.335373,...</td>\n",
       "      <td>Trans to AMR</td>\n",
       "    </tr>\n",
       "    <tr>\n",
       "      <th>2</th>\n",
       "      <td>NaN</td>\n",
       "      <td>NaN</td>\n",
       "      <td>15</td>\n",
       "      <td>18388</td>\n",
       "      <td>59</td>\n",
       "      <td>8819 14th Av S</td>\n",
       "      <td>2019-05-02T13:02:00.000</td>\n",
       "      <td>F190044172</td>\n",
       "      <td>47.524577</td>\n",
       "      <td>-122.314942</td>\n",
       "      <td>{'type': 'Point', 'coordinates': [-122.314942,...</td>\n",
       "      <td>Aid Response</td>\n",
       "    </tr>\n",
       "    <tr>\n",
       "      <th>3</th>\n",
       "      <td>NaN</td>\n",
       "      <td>NaN</td>\n",
       "      <td>43</td>\n",
       "      <td>18800</td>\n",
       "      <td>21</td>\n",
       "      <td>4419 Cascadia Av S</td>\n",
       "      <td>2019-06-20T00:26:00.000</td>\n",
       "      <td>F190064311</td>\n",
       "      <td>47.563889</td>\n",
       "      <td>-122.2828</td>\n",
       "      <td>{'type': 'Point', 'coordinates': [-122.2828, 4...</td>\n",
       "      <td>Aid Response</td>\n",
       "    </tr>\n",
       "    <tr>\n",
       "      <th>4</th>\n",
       "      <td>NaN</td>\n",
       "      <td>NaN</td>\n",
       "      <td>11</td>\n",
       "      <td>19578</td>\n",
       "      <td>8</td>\n",
       "      <td>1429 Broadway</td>\n",
       "      <td>2019-06-20T00:36:00.000</td>\n",
       "      <td>F190064313</td>\n",
       "      <td>47.613281</td>\n",
       "      <td>-122.320767</td>\n",
       "      <td>{'type': 'Point', 'coordinates': [-122.320767,...</td>\n",
       "      <td>Aid Response</td>\n",
       "    </tr>\n",
       "  </tbody>\n",
       "</table>\n",
       "</div>"
      ],
      "text/plain": [
       "  :@computed_region_2day_rhn5 :@computed_region_cyqu_gs94  \\\n",
       "0                         NaN                         NaN   \n",
       "1                         NaN                         NaN   \n",
       "2                         NaN                         NaN   \n",
       "3                         NaN                         NaN   \n",
       "4                         NaN                         NaN   \n",
       "\n",
       "  :@computed_region_kuhn_3gp2 :@computed_region_q256_3sug  \\\n",
       "0                          49                       18795   \n",
       "1                          24                       18081   \n",
       "2                          15                       18388   \n",
       "3                          43                       18800   \n",
       "4                          11                       19578   \n",
       "\n",
       "  :@computed_region_ru88_fbhk              address                 datetime  \\\n",
       "0                          41  4700 Sw Admiral Way  2019-06-06T04:45:00.000   \n",
       "1                          14     6th Av / Pine St  2019-06-20T00:38:00.000   \n",
       "2                          59       8819 14th Av S  2019-05-02T13:02:00.000   \n",
       "3                          21   4419 Cascadia Av S  2019-06-20T00:26:00.000   \n",
       "4                           8        1429 Broadway  2019-06-20T00:36:00.000   \n",
       "\n",
       "  incident_number   latitude    longitude  \\\n",
       "0      F190058688  47.581214  -122.391903   \n",
       "1      F190064315  47.612136  -122.335373   \n",
       "2      F190044172  47.524577  -122.314942   \n",
       "3      F190064311  47.563889    -122.2828   \n",
       "4      F190064313  47.613281  -122.320767   \n",
       "\n",
       "                                     report_location          type  \n",
       "0  {'type': 'Point', 'coordinates': [-122.391903,...  Aid Response  \n",
       "1  {'type': 'Point', 'coordinates': [-122.335373,...  Trans to AMR  \n",
       "2  {'type': 'Point', 'coordinates': [-122.314942,...  Aid Response  \n",
       "3  {'type': 'Point', 'coordinates': [-122.2828, 4...  Aid Response  \n",
       "4  {'type': 'Point', 'coordinates': [-122.320767,...  Aid Response  "
      ]
     },
     "execution_count": 13,
     "metadata": {},
     "output_type": "execute_result"
    }
   ],
   "source": [
    "# here you are...\n",
    "data911DF.head()"
   ]
  },
  {
   "cell_type": "code",
   "execution_count": 15,
   "metadata": {},
   "outputs": [
    {
     "data": {
      "text/plain": [
       "(1000, 12)"
      ]
     },
     "execution_count": 15,
     "metadata": {},
     "output_type": "execute_result"
    }
   ],
   "source": [
    "data911DF.shape"
   ]
  },
  {
   "cell_type": "markdown",
   "metadata": {},
   "source": [
    "### Descargando de Twitter\n",
    "\n",
    "Twitter tiene su propio API. Para obtener acceso , hay que seguir estos pasos:\n",
    "\n",
    "1. Necesita ua cuenta en Twitter, Si la tiene,vaya a este [link](https://developer.twitter.com/en/apps).\n",
    "2. Seleccione **Create a new App** y complete la información básica que se le pide.\n",
    "3. Cuando haya creado el App, vaya a _Keys y Tokens_.\n",
    "4. En un archivo cimple de texto:  \n",
    "{\"consumer_key\": \"aaa\", \"access_token_secret\": \"bbb\", \"consumer_secret\": \"ccc\", \"access_token\": \"ddd\"}\n",
    "5. Guardelo como keysAPI.txt en el mismo lugar que su Jupyter notebook.\n",
    "\n",
    "Uselo así:\n"
   ]
  },
  {
   "cell_type": "code",
   "execution_count": null,
   "metadata": {},
   "outputs": [],
   "source": [
    "import json\n",
    "\n",
    "# get the security info from file\n",
    "keysAPI = json.load(open('data/keysAPI.txt','r'))"
   ]
  },
  {
   "cell_type": "markdown",
   "metadata": {},
   "source": [
    "Verify if you have **tweepy**. You may need to install it via **pip**."
   ]
  },
  {
   "cell_type": "code",
   "execution_count": null,
   "metadata": {},
   "outputs": [],
   "source": [
    "import tweepy\n",
    "\n",
    "# recovering security info\n",
    "consumer_key = keysAPI['consumer_key']\n",
    "consumer_secret = keysAPI['consumer_secret']\n",
    "access_token = keysAPI['access_token']\n",
    "access_token_secret = keysAPI['access_token_secret']"
   ]
  },
  {
   "cell_type": "code",
   "execution_count": null,
   "metadata": {},
   "outputs": [],
   "source": [
    "# using security info:\n",
    "auth = tweepy.OAuthHandler(consumer_key, consumer_secret)\n",
    "auth.set_access_token(access_token, access_token_secret)\n",
    "api=tweepy.API(auth, wait_on_rate_limit=True,wait_on_rate_limit_notify=True,parser=tweepy.parsers.JSONParser())"
   ]
  },
  {
   "cell_type": "code",
   "execution_count": null,
   "metadata": {},
   "outputs": [],
   "source": [
    "# getting the tweets from a user:\n",
    "\n",
    "tweets = api.user_timeline(screen_name = 'MashiRafael', count = 1000, include_rts = False)"
   ]
  },
  {
   "cell_type": "markdown",
   "metadata": {},
   "source": [
    "Let's see what we have:"
   ]
  },
  {
   "cell_type": "code",
   "execution_count": null,
   "metadata": {},
   "outputs": [],
   "source": [
    "tweets"
   ]
  },
  {
   "cell_type": "code",
   "execution_count": null,
   "metadata": {},
   "outputs": [],
   "source": [
    "type(tweets)"
   ]
  },
  {
   "cell_type": "code",
   "execution_count": null,
   "metadata": {},
   "outputs": [],
   "source": [
    "tweets[0]"
   ]
  },
  {
   "cell_type": "code",
   "execution_count": null,
   "metadata": {},
   "outputs": [],
   "source": [
    "type(tweets[0])"
   ]
  },
  {
   "cell_type": "code",
   "execution_count": null,
   "metadata": {},
   "outputs": [],
   "source": [
    "aTweet=tweets[0]\n",
    "\n",
    "for field in aTweet.keys():\n",
    "    print (field)"
   ]
  },
  {
   "cell_type": "code",
   "execution_count": null,
   "metadata": {},
   "outputs": [],
   "source": [
    "aTweet['text']"
   ]
  },
  {
   "cell_type": "code",
   "execution_count": null,
   "metadata": {},
   "outputs": [],
   "source": [
    "aTweet['created_at']"
   ]
  },
  {
   "cell_type": "code",
   "execution_count": null,
   "metadata": {},
   "outputs": [],
   "source": [
    "# transform the dict into a DF in pandas\n",
    "import pandas as pd\n",
    "correaTweets=pd.DataFrame({'textTweet':[t['text'] for t in tweets]})\n",
    "correaTweets"
   ]
  },
  {
   "cell_type": "markdown",
   "metadata": {},
   "source": [
    "[Go to page beginning](#beginning)\n",
    "\n",
    "_____\n",
    "\n",
    "<a id='part4'></a>\n",
    "\n",
    "## Collecting data by scraping\n",
    "\n",
    "We are going to get the data from a table from this [wikipage](https://en.wikipedia.org/wiki/List_of_freedom_indices)"
   ]
  },
  {
   "cell_type": "code",
   "execution_count": null,
   "metadata": {},
   "outputs": [],
   "source": [
    "from requests import get\n",
    "from bs4 import BeautifulSoup as BS\n",
    "\n",
    "# Location \n",
    "wiki=\"https://en.wikipedia.org/wiki/\" \n",
    "link = \"List_of_freedom_indices\" \n",
    "\n",
    "wikiLink=wiki+link\n",
    "# avoid rejection from server\n",
    "identification = {\"User-Agent\":\"Mozilla/5.0\"}\n",
    "# contact server\n",
    "wikiPage =get(wikiLink , headers=identification)\n",
    "# BS gets wikipedia page as html\n",
    "wikiSoup =BS(wikiPage.content ,\"html.parser\")\n",
    "# BS extracts the whole table (it is html) \n",
    "wikiTables=wikiSoup.findAll(\"table\",{\"class\":\"wikitable sortable\"})"
   ]
  },
  {
   "cell_type": "code",
   "execution_count": null,
   "metadata": {},
   "outputs": [],
   "source": [
    "#How many are there?\n",
    "len(wikiTables)"
   ]
  },
  {
   "cell_type": "code",
   "execution_count": null,
   "metadata": {},
   "outputs": [],
   "source": [
    "# So, I just pick the one I need:\n",
    "wikiTable=wikiTables[0]"
   ]
  },
  {
   "cell_type": "code",
   "execution_count": null,
   "metadata": {},
   "outputs": [],
   "source": [
    "# what do you have:\n",
    "wikiTable"
   ]
  },
  {
   "cell_type": "markdown",
   "metadata": {},
   "source": [
    "The table is there, but in HTML format. In general, our table is composed of ROWS, so this command will get every row from the table:"
   ]
  },
  {
   "cell_type": "code",
   "execution_count": null,
   "metadata": {},
   "outputs": [],
   "source": [
    "allRows=wikiTable.find_all('tr') #'tr' stands for table row, it is a TAG in HTML."
   ]
  },
  {
   "cell_type": "code",
   "execution_count": null,
   "metadata": {},
   "outputs": [],
   "source": [
    "# headersHtml is simply the first row of the table\n",
    "headersHtml=allRows[0]"
   ]
  },
  {
   "cell_type": "code",
   "execution_count": null,
   "metadata": {},
   "outputs": [],
   "source": [
    "# and we have:\n",
    "headersHtml # this is ONE element from allRows "
   ]
  },
  {
   "cell_type": "markdown",
   "metadata": {},
   "source": [
    "You just saw the headers, but they are still in HTML; let me use the tag 'th' (table header) to get those elements in _headersHtml_:"
   ]
  },
  {
   "cell_type": "code",
   "execution_count": null,
   "metadata": {},
   "outputs": [],
   "source": [
    "headersHtml.find_all('th')"
   ]
  },
  {
   "cell_type": "markdown",
   "metadata": {},
   "source": [
    "You see a list of elements, each between the tags 'th' (using < or >). Each element in the list has the text of the header (and other elements). We just need the text, so:"
   ]
  },
  {
   "cell_type": "code",
   "execution_count": null,
   "metadata": {},
   "outputs": [],
   "source": [
    "# headersList is a list with each headers' TEXT element:\n",
    "headersList=[header.get_text() for header in headersHtml.find_all('th')]"
   ]
  },
  {
   "cell_type": "code",
   "execution_count": null,
   "metadata": {},
   "outputs": [],
   "source": [
    "# Voilà les titres:\n",
    "headersList"
   ]
  },
  {
   "cell_type": "markdown",
   "metadata": {},
   "source": [
    "The same process should be followed to get the data."
   ]
  },
  {
   "cell_type": "code",
   "execution_count": null,
   "metadata": {},
   "outputs": [],
   "source": [
    "# This should be the data:\n",
    "rowsHtml=allRows[1:]  #... [1:] is omitting the Headers"
   ]
  },
  {
   "cell_type": "code",
   "execution_count": null,
   "metadata": {},
   "outputs": [],
   "source": [
    "# let's see one of these:\n",
    "rowsHtml[0]"
   ]
  },
  {
   "cell_type": "markdown",
   "metadata": {},
   "source": [
    "Each of the table cell uses the **td** TAG, but we will not recover ONE row, but several rows, so we need to adapt the previous code for the headers in this case."
   ]
  },
  {
   "cell_type": "code",
   "execution_count": null,
   "metadata": {},
   "outputs": [],
   "source": [
    "# some python beauty:\n",
    "# using 'td' \n",
    "rowsList=[[cell.get_text() for cell in row.find_all('td')] for row in rowsHtml]\n"
   ]
  },
  {
   "cell_type": "code",
   "execution_count": null,
   "metadata": {},
   "outputs": [],
   "source": [
    "rowsList[0:3] # a list of lists"
   ]
  },
  {
   "cell_type": "code",
   "execution_count": null,
   "metadata": {},
   "outputs": [],
   "source": [
    "# Data frame creation\n",
    "import pandas as pd\n",
    "\n",
    "# making a data frame from list of lists!\n",
    "pd.DataFrame(data=rowsList , columns=headersList)"
   ]
  },
  {
   "cell_type": "markdown",
   "metadata": {},
   "source": [
    "_____\n",
    "\n",
    "**AUSPICIO**: \n",
    "\n",
    "* El desarrollo de estos contenidos ha sido posible gracias al grant del Berkeley Initiative for Transparency in the Social Sciences (BITSS) at the Center for Effective Global Action (CEGA) at the University of California, Berkeley\n",
    "\n",
    "\n",
    "<center>\n",
    "<img src=\"https://www.bitss.org/wp-content/uploads/2015/07/bitss-55a55026v1_site_icon.png\" style=\"width: 200px;\"/>\n",
    "</center>\n",
    "\n",
    "* Este curso cuenta con el auspicio de:\n",
    "\n",
    "\n",
    "<center>\n",
    "<img src=\"https://www.python.org/static/img/psf-logo@2x.png\" style=\"width: 500px;\"/>\n",
    "</center>\n",
    "\n",
    "\n",
    "\n",
    "**RECONOCIMIENTO**\n",
    "\n",
    "\n",
    "EL Dr. Magallanes agradece a la Pontificia Universidad Católica del Perú, por su apoyo en la participación en la Escuela ALACIP.\n",
    "\n",
    "<center>\n",
    "<img src=\"https://dci.pucp.edu.pe/wp-content/uploads/2014/02/Logotipo_colores-290x145.jpg\" style=\"width: 400px;\"/>\n",
    "</center>\n",
    "\n",
    "\n",
    "El autor reconoce el apoyo que el eScience Institute de la Universidad de Washington le ha brindado desde el 2015 para desarrollar su investigación en Ciencia de Datos.\n",
    "\n",
    "<center>\n",
    "<img src=\"https://escience.washington.edu/wp-content/uploads/2015/10/eScience_Logo_HR.png\" style=\"width: 500px;\"/>\n",
    "</center>\n",
    "\n",
    "<br>\n",
    "<br>"
   ]
  },
  {
   "cell_type": "code",
   "execution_count": null,
   "metadata": {},
   "outputs": [],
   "source": []
  }
 ],
 "metadata": {
  "anaconda-cloud": {},
  "hide_input": false,
  "kernelspec": {
   "display_name": "Python 3",
   "language": "python",
   "name": "python3"
  },
  "language_info": {
   "codemirror_mode": {
    "name": "ipython",
    "version": 3
   },
   "file_extension": ".py",
   "mimetype": "text/x-python",
   "name": "python",
   "nbconvert_exporter": "python",
   "pygments_lexer": "ipython3",
   "version": "3.6.8"
  }
 },
 "nbformat": 4,
 "nbformat_minor": 1
}
