{
 "cells": [
  {
   "cell_type": "markdown",
   "metadata": {},
   "source": [
    "<center><img src=\"http://alacip.org/wp-content/uploads/2014/03/logoEscalacip1.png\" width=\"500\"></center>\n",
    "\n",
    "\n",
    "<center> <h1>Curso: Introducción al Python</h1> </center>\n",
    "\n",
    "<br></br>\n",
    "\n",
    "* Profesor:  <a href=\"http://www.pucp.edu.pe/profesor/jose-manuel-magallanes/\" target=\"_blank\">Dr. José Manuel Magallanes, PhD</a> ([jmagallanes@pucp.edu.pe](mailto:jmagallanes@pucp.edu.pe))<br>\n",
    "    - Profesor del **Departamento de Ciencias Sociales, Pontificia Universidad Católica del Peru**.<br>\n",
    "    - Senior Data Scientist del **eScience Institute** and Visiting Professor at **Evans School of Public Policy and Governance, University of Washington**.<br>\n",
    "    - Fellow Catalyst, **Berkeley Initiative for Transparency in Social Sciences, UC Berkeley**.\n",
    "\n",
    "\n",
    "## Parte 4:  Data Cleaning en Python"
   ]
  },
  {
   "cell_type": "markdown",
   "metadata": {},
   "source": [
    "El pre procesamiento de datos es la parte más tediosa del proceso de investigación.\n",
    "\n",
    "Esta primera parte delata diversos problemas que se tienen con los datos reales que están en la web, como la que vemos a continuación:"
   ]
  },
  {
   "cell_type": "code",
   "execution_count": 1,
   "metadata": {
    "scrolled": true
   },
   "outputs": [
    {
     "data": {
      "text/html": [
       "<iframe src=https://en.wikipedia.org/wiki/List_of_freedom_indices width=700 height=350></iframe>"
      ],
      "text/plain": [
       "<IPython.core.display.HTML object>"
      ]
     },
     "execution_count": 1,
     "metadata": {},
     "output_type": "execute_result"
    }
   ],
   "source": [
    "import IPython\n",
    "wikiLink=\"https://en.wikipedia.org/wiki/List_of_freedom_indices\" \n",
    "iframe = '<iframe src=' + wikiLink + ' width=700 height=350></iframe>'\n",
    "IPython.display.HTML(iframe)"
   ]
  },
  {
   "cell_type": "markdown",
   "metadata": {},
   "source": [
    "Recuerda inspeccionar la tabla para encontrar algun atributo que sirva para su descarga. De ahí, continua."
   ]
  },
  {
   "cell_type": "code",
   "execution_count": 2,
   "metadata": {},
   "outputs": [],
   "source": [
    "# antes instala'beautifulsoup4' y 'html5lib'\n",
    "# es posible que necesites salir y volver a cargar notebook\n",
    "\n",
    "import pandas as pd\n",
    "\n",
    "wikiTables=pd.read_html(wikiLink,header=0,flavor='bs4',attrs={'class': 'wikitable sortable'})"
   ]
  },
  {
   "cell_type": "code",
   "execution_count": 3,
   "metadata": {},
   "outputs": [
    {
     "data": {
      "text/plain": [
       "1"
      ]
     },
     "execution_count": 3,
     "metadata": {},
     "output_type": "execute_result"
    }
   ],
   "source": [
    "# cuantas tenemos?\n",
    "len(wikiTables)"
   ]
  },
  {
   "cell_type": "markdown",
   "metadata": {},
   "source": [
    "Hasta aquí todo parece bien. Como solo hay uno, lo traigo y comienzo a verificar 'suciedades'."
   ]
  },
  {
   "cell_type": "code",
   "execution_count": 4,
   "metadata": {},
   "outputs": [
    {
     "data": {
      "text/html": [
       "<div>\n",
       "<style scoped>\n",
       "    .dataframe tbody tr th:only-of-type {\n",
       "        vertical-align: middle;\n",
       "    }\n",
       "\n",
       "    .dataframe tbody tr th {\n",
       "        vertical-align: top;\n",
       "    }\n",
       "\n",
       "    .dataframe thead th {\n",
       "        text-align: right;\n",
       "    }\n",
       "</style>\n",
       "<table border=\"1\" class=\"dataframe\">\n",
       "  <thead>\n",
       "    <tr style=\"text-align: right;\">\n",
       "      <th></th>\n",
       "      <th>Country</th>\n",
       "      <th>Freedom in the World 2019[10]</th>\n",
       "      <th>2019 Index of Economic Freedom[11]</th>\n",
       "      <th>2019 Press Freedom Index[3]</th>\n",
       "      <th>2018 Democracy Index[13]</th>\n",
       "    </tr>\n",
       "  </thead>\n",
       "  <tbody>\n",
       "    <tr>\n",
       "      <th>0</th>\n",
       "      <td>Afghanistan</td>\n",
       "      <td>not free</td>\n",
       "      <td>mostly unfree</td>\n",
       "      <td>difficult situation</td>\n",
       "      <td>authoritarian regime</td>\n",
       "    </tr>\n",
       "    <tr>\n",
       "      <th>1</th>\n",
       "      <td>Albania</td>\n",
       "      <td>partly free</td>\n",
       "      <td>moderately free</td>\n",
       "      <td>noticeable problems</td>\n",
       "      <td>hybrid regime</td>\n",
       "    </tr>\n",
       "    <tr>\n",
       "      <th>2</th>\n",
       "      <td>Algeria</td>\n",
       "      <td>not free</td>\n",
       "      <td>repressed</td>\n",
       "      <td>difficult situation</td>\n",
       "      <td>authoritarian regime</td>\n",
       "    </tr>\n",
       "    <tr>\n",
       "      <th>3</th>\n",
       "      <td>Andorra</td>\n",
       "      <td>free</td>\n",
       "      <td>NaN</td>\n",
       "      <td>satisfactory situation</td>\n",
       "      <td>NaN</td>\n",
       "    </tr>\n",
       "    <tr>\n",
       "      <th>4</th>\n",
       "      <td>Angola</td>\n",
       "      <td>not free</td>\n",
       "      <td>mostly unfree</td>\n",
       "      <td>noticeable problems</td>\n",
       "      <td>authoritarian regime</td>\n",
       "    </tr>\n",
       "  </tbody>\n",
       "</table>\n",
       "</div>"
      ],
      "text/plain": [
       "       Country Freedom in the World 2019[10]  \\\n",
       "0  Afghanistan                      not free   \n",
       "1      Albania                   partly free   \n",
       "2      Algeria                      not free   \n",
       "3      Andorra                          free   \n",
       "4       Angola                      not free   \n",
       "\n",
       "  2019 Index of Economic Freedom[11] 2019 Press Freedom Index[3]  \\\n",
       "0                      mostly unfree         difficult situation   \n",
       "1                    moderately free         noticeable problems   \n",
       "2                          repressed         difficult situation   \n",
       "3                                NaN      satisfactory situation   \n",
       "4                      mostly unfree         noticeable problems   \n",
       "\n",
       "  2018 Democracy Index[13]  \n",
       "0     authoritarian regime  \n",
       "1            hybrid regime  \n",
       "2     authoritarian regime  \n",
       "3                      NaN  \n",
       "4     authoritarian regime  "
      ]
     },
     "execution_count": 4,
     "metadata": {},
     "output_type": "execute_result"
    }
   ],
   "source": [
    "DF=wikiTables[0]\n",
    "\n",
    "#primera mirada\n",
    "DF.head()"
   ]
  },
  {
   "cell_type": "markdown",
   "metadata": {},
   "source": [
    "La limpieza requiere estrategia. Lo primero que salta a la vista, son los _footnotes_ que están en los títulos:"
   ]
  },
  {
   "cell_type": "code",
   "execution_count": 5,
   "metadata": {},
   "outputs": [
    {
     "data": {
      "text/plain": [
       "Index(['Country', 'Freedom in the World 2019[10]',\n",
       "       '2019 Index of Economic Freedom[11]', '2019 Press Freedom Index[3]',\n",
       "       '2018 Democracy Index[13]'],\n",
       "      dtype='object')"
      ]
     },
     "execution_count": 5,
     "metadata": {},
     "output_type": "execute_result"
    }
   ],
   "source": [
    "DF.columns"
   ]
  },
  {
   "cell_type": "code",
   "execution_count": 6,
   "metadata": {},
   "outputs": [
    {
     "data": {
      "text/plain": [
       "[['Country'],\n",
       " ['Freedom in the World 2019', '10]'],\n",
       " ['2019 Index of Economic Freedom', '11]'],\n",
       " ['2019 Press Freedom Index', '3]'],\n",
       " ['2018 Democracy Index', '13]']]"
      ]
     },
     "execution_count": 6,
     "metadata": {},
     "output_type": "execute_result"
    }
   ],
   "source": [
    "# aqui ves que pasa cuando divido cada celda usando el caracter '['\n",
    "[element.split('[') for element in DF.columns]"
   ]
  },
  {
   "cell_type": "code",
   "execution_count": 7,
   "metadata": {},
   "outputs": [
    {
     "data": {
      "text/plain": [
       "['Country',\n",
       " 'Freedom in the World 2019',\n",
       " '2019 Index of Economic Freedom',\n",
       " '2019 Press Freedom Index',\n",
       " '2018 Democracy Index']"
      ]
     },
     "execution_count": 7,
     "metadata": {},
     "output_type": "execute_result"
    }
   ],
   "source": [
    "# Te das cuenta que te puedes quedar con el primer elemento cada vez que partes:\n",
    "[element.split('[')[0] for element in DF.columns]"
   ]
  },
  {
   "cell_type": "markdown",
   "metadata": {},
   "source": [
    "También hay que evitar espacios en blanco:"
   ]
  },
  {
   "cell_type": "code",
   "execution_count": 8,
   "metadata": {},
   "outputs": [
    {
     "data": {
      "text/plain": [
       "['Country',\n",
       " 'FreedomintheWorld2019',\n",
       " '2019IndexofEconomicFreedom',\n",
       " '2019PressFreedomIndex',\n",
       " '2018DemocracyIndex']"
      ]
     },
     "execution_count": 8,
     "metadata": {},
     "output_type": "execute_result"
    }
   ],
   "source": [
    "outSymbol=' ' \n",
    "inSymbol=''\n",
    "[element.split('[')[0].replace(outSymbol,inSymbol) for element in DF.columns]"
   ]
  },
  {
   "cell_type": "markdown",
   "metadata": {},
   "source": [
    "Los números también molestan, pero están en diferentes sitios. Mejor intentemos expresiones regulares:"
   ]
  },
  {
   "cell_type": "code",
   "execution_count": 9,
   "metadata": {},
   "outputs": [
    {
     "data": {
      "text/plain": [
       "['Country',\n",
       " 'FreedomintheWorld',\n",
       " 'IndexofEconomicFreedom',\n",
       " 'PressFreedomIndex',\n",
       " 'DemocracyIndex']"
      ]
     },
     "execution_count": 9,
     "metadata": {},
     "output_type": "execute_result"
    }
   ],
   "source": [
    "import re  # debe estar instalado.\n",
    "\n",
    "# espacios: \\\\s+\n",
    "# uno o mas numeros \\\\d+\n",
    "# bracket que abre \\\\[\n",
    "# bracket que cierra \\\\]\n",
    "\n",
    "pattern='\\\\s+|\\\\d+|\\\\[|\\\\]'\n",
    "nothing=''\n",
    "\n",
    "#substituyendo 'pattern' por 'nothing':\n",
    "[re.sub(pattern,nothing,element) for element in DF.columns]"
   ]
  },
  {
   "cell_type": "markdown",
   "metadata": {},
   "source": [
    "Ya tengo nuevos titulos de columna (headers)!!"
   ]
  },
  {
   "cell_type": "code",
   "execution_count": 10,
   "metadata": {},
   "outputs": [],
   "source": [
    "newHeaders=[re.sub(pattern,nothing,element) for element in DF.columns]"
   ]
  },
  {
   "cell_type": "markdown",
   "metadata": {},
   "source": [
    "Preparemos los cambios:"
   ]
  },
  {
   "cell_type": "code",
   "execution_count": 11,
   "metadata": {},
   "outputs": [
    {
     "data": {
      "text/plain": [
       "[('Country', 'Country'),\n",
       " ('Freedom in the World 2019[10]', 'FreedomintheWorld'),\n",
       " ('2019 Index of Economic Freedom[11]', 'IndexofEconomicFreedom'),\n",
       " ('2019 Press Freedom Index[3]', 'PressFreedomIndex'),\n",
       " ('2018 Democracy Index[13]', 'DemocracyIndex')]"
      ]
     },
     "execution_count": 11,
     "metadata": {},
     "output_type": "execute_result"
    }
   ],
   "source": [
    "list(zip(DF.columns,newHeaders))"
   ]
  },
  {
   "cell_type": "code",
   "execution_count": 12,
   "metadata": {},
   "outputs": [
    {
     "data": {
      "text/plain": [
       "{'2018 Democracy Index[13]': 'DemocracyIndex',\n",
       " '2019 Index of Economic Freedom[11]': 'IndexofEconomicFreedom',\n",
       " '2019 Press Freedom Index[3]': 'PressFreedomIndex',\n",
       " 'Country': 'Country',\n",
       " 'Freedom in the World 2019[10]': 'FreedomintheWorld'}"
      ]
     },
     "execution_count": 12,
     "metadata": {},
     "output_type": "execute_result"
    }
   ],
   "source": [
    "# veamos los cambios:\n",
    "{old:new for old,new in zip(DF.columns,newHeaders)}"
   ]
  },
  {
   "cell_type": "markdown",
   "metadata": {},
   "source": [
    "Uso un dict por si hubieses querido cambiar solo algunas columnas:"
   ]
  },
  {
   "cell_type": "code",
   "execution_count": 13,
   "metadata": {},
   "outputs": [],
   "source": [
    "changes={old:new for old,new in zip(DF.columns,newHeaders)}\n",
    "DF.rename(columns=changes,inplace=True)"
   ]
  },
  {
   "cell_type": "code",
   "execution_count": 14,
   "metadata": {},
   "outputs": [
    {
     "data": {
      "text/html": [
       "<div>\n",
       "<style scoped>\n",
       "    .dataframe tbody tr th:only-of-type {\n",
       "        vertical-align: middle;\n",
       "    }\n",
       "\n",
       "    .dataframe tbody tr th {\n",
       "        vertical-align: top;\n",
       "    }\n",
       "\n",
       "    .dataframe thead th {\n",
       "        text-align: right;\n",
       "    }\n",
       "</style>\n",
       "<table border=\"1\" class=\"dataframe\">\n",
       "  <thead>\n",
       "    <tr style=\"text-align: right;\">\n",
       "      <th></th>\n",
       "      <th>Country</th>\n",
       "      <th>FreedomintheWorld</th>\n",
       "      <th>IndexofEconomicFreedom</th>\n",
       "      <th>PressFreedomIndex</th>\n",
       "      <th>DemocracyIndex</th>\n",
       "    </tr>\n",
       "  </thead>\n",
       "  <tbody>\n",
       "    <tr>\n",
       "      <th>0</th>\n",
       "      <td>Afghanistan</td>\n",
       "      <td>not free</td>\n",
       "      <td>mostly unfree</td>\n",
       "      <td>difficult situation</td>\n",
       "      <td>authoritarian regime</td>\n",
       "    </tr>\n",
       "    <tr>\n",
       "      <th>1</th>\n",
       "      <td>Albania</td>\n",
       "      <td>partly free</td>\n",
       "      <td>moderately free</td>\n",
       "      <td>noticeable problems</td>\n",
       "      <td>hybrid regime</td>\n",
       "    </tr>\n",
       "    <tr>\n",
       "      <th>2</th>\n",
       "      <td>Algeria</td>\n",
       "      <td>not free</td>\n",
       "      <td>repressed</td>\n",
       "      <td>difficult situation</td>\n",
       "      <td>authoritarian regime</td>\n",
       "    </tr>\n",
       "    <tr>\n",
       "      <th>3</th>\n",
       "      <td>Andorra</td>\n",
       "      <td>free</td>\n",
       "      <td>NaN</td>\n",
       "      <td>satisfactory situation</td>\n",
       "      <td>NaN</td>\n",
       "    </tr>\n",
       "    <tr>\n",
       "      <th>4</th>\n",
       "      <td>Angola</td>\n",
       "      <td>not free</td>\n",
       "      <td>mostly unfree</td>\n",
       "      <td>noticeable problems</td>\n",
       "      <td>authoritarian regime</td>\n",
       "    </tr>\n",
       "  </tbody>\n",
       "</table>\n",
       "</div>"
      ],
      "text/plain": [
       "       Country FreedomintheWorld IndexofEconomicFreedom  \\\n",
       "0  Afghanistan          not free          mostly unfree   \n",
       "1      Albania       partly free        moderately free   \n",
       "2      Algeria          not free              repressed   \n",
       "3      Andorra              free                    NaN   \n",
       "4       Angola          not free          mostly unfree   \n",
       "\n",
       "        PressFreedomIndex        DemocracyIndex  \n",
       "0     difficult situation  authoritarian regime  \n",
       "1     noticeable problems         hybrid regime  \n",
       "2     difficult situation  authoritarian regime  \n",
       "3  satisfactory situation                   NaN  \n",
       "4     noticeable problems  authoritarian regime  "
      ]
     },
     "execution_count": 14,
     "metadata": {},
     "output_type": "execute_result"
    }
   ],
   "source": [
    "# ahora tenemos:\n",
    "DF.head()"
   ]
  },
  {
   "cell_type": "markdown",
   "metadata": {},
   "source": [
    "Las columnas son categorías, veamos si todas se han escrito de la manera correcta:"
   ]
  },
  {
   "cell_type": "code",
   "execution_count": 15,
   "metadata": {},
   "outputs": [
    {
     "data": {
      "text/plain": [
       "free           86\n",
       "partly free    62\n",
       "not free       56\n",
       "Name: FreedomintheWorld, dtype: int64"
      ]
     },
     "execution_count": 15,
     "metadata": {},
     "output_type": "execute_result"
    }
   ],
   "source": [
    "DF.FreedomintheWorld.value_counts()"
   ]
  },
  {
   "cell_type": "code",
   "execution_count": 16,
   "metadata": {},
   "outputs": [
    {
     "data": {
      "text/plain": [
       "mostly unfree      64\n",
       "moderately free    59\n",
       "mostly free        29\n",
       "repressed          22\n",
       "free                6\n",
       "Name: IndexofEconomicFreedom, dtype: int64"
      ]
     },
     "execution_count": 16,
     "metadata": {},
     "output_type": "execute_result"
    }
   ],
   "source": [
    "DF.IndexofEconomicFreedom.value_counts()"
   ]
  },
  {
   "cell_type": "code",
   "execution_count": 17,
   "metadata": {},
   "outputs": [
    {
     "data": {
      "text/plain": [
       "noticeable problems       73\n",
       "difficult situation       54\n",
       "satisfactory situation    27\n",
       "very serious situation    19\n",
       "good situation            15\n",
       "mostly free                1\n",
       "Name: PressFreedomIndex, dtype: int64"
      ]
     },
     "execution_count": 17,
     "metadata": {},
     "output_type": "execute_result"
    }
   ],
   "source": [
    "DF.PressFreedomIndex.value_counts()"
   ]
  },
  {
   "cell_type": "code",
   "execution_count": 18,
   "metadata": {},
   "outputs": [
    {
     "data": {
      "text/plain": [
       "flawed democracy        55\n",
       "authoritarian regime    54\n",
       "hybrid regime           39\n",
       "full democracy          19\n",
       "Name: DemocracyIndex, dtype: int64"
      ]
     },
     "execution_count": 18,
     "metadata": {},
     "output_type": "execute_result"
    }
   ],
   "source": [
    "DF.DemocracyIndex.value_counts()"
   ]
  },
  {
   "cell_type": "markdown",
   "metadata": {},
   "source": [
    "____\n",
    "\n",
    "[Ir a inicio](#beginning)"
   ]
  },
  {
   "cell_type": "markdown",
   "metadata": {},
   "source": [
    "_____\n",
    "\n",
    "**AUSPICIO**: \n",
    "\n",
    "* El desarrollo de estos contenidos ha sido posible gracias al grant del Berkeley Initiative for Transparency in the Social Sciences (BITSS) at the Center for Effective Global Action (CEGA) at the University of California, Berkeley\n",
    "\n",
    "\n",
    "<center>\n",
    "<img src=\"https://www.bitss.org/wp-content/uploads/2015/07/bitss-55a55026v1_site_icon.png\" style=\"width: 200px;\"/>\n",
    "</center>\n",
    "\n",
    "* Este curso cuenta con el auspicio de:\n",
    "\n",
    "\n",
    "<center>\n",
    "<img src=\"https://www.python.org/static/img/psf-logo@2x.png\" style=\"width: 500px;\"/>\n",
    "</center>\n",
    "\n",
    "\n",
    "\n",
    "**RECONOCIMIENTO**\n",
    "\n",
    "\n",
    "EL Dr. Magallanes agradece a la Pontificia Universidad Católica del Perú, por su apoyo en la participación en la Escuela ALACIP.\n",
    "\n",
    "<center>\n",
    "<img src=\"https://dci.pucp.edu.pe/wp-content/uploads/2014/02/Logotipo_colores-290x145.jpg\" style=\"width: 400px;\"/>\n",
    "</center>\n",
    "\n",
    "\n",
    "El autor reconoce el apoyo que el eScience Institute de la Universidad de Washington le ha brindado desde el 2015 para desarrollar su investigación en Ciencia de Datos.\n",
    "\n",
    "<center>\n",
    "<img src=\"https://escience.washington.edu/wp-content/uploads/2015/10/eScience_Logo_HR.png\" style=\"width: 500px;\"/>\n",
    "</center>\n",
    "\n",
    "<br>\n",
    "<br>"
   ]
  },
  {
   "cell_type": "code",
   "execution_count": null,
   "metadata": {},
   "outputs": [],
   "source": []
  }
 ],
 "metadata": {
  "anaconda-cloud": {},
  "hide_input": false,
  "kernelspec": {
   "display_name": "Python 3",
   "language": "python",
   "name": "python3"
  },
  "language_info": {
   "codemirror_mode": {
    "name": "ipython",
    "version": 3
   },
   "file_extension": ".py",
   "mimetype": "text/x-python",
   "name": "python",
   "nbconvert_exporter": "python",
   "pygments_lexer": "ipython3",
   "version": "3.6.8"
  }
 },
 "nbformat": 4,
 "nbformat_minor": 1
}
