{
 "cells": [
  {
   "cell_type": "markdown",
   "metadata": {},
   "source": [
    "<center><img src=\"http://alacip.org/wp-content/uploads/2014/03/logoEscalacip1.png\" width=\"500\"></center>\n",
    "\n",
    "\n",
    "<center> <h1>Curso: Introducción al Python</h1> </center>\n",
    "\n",
    "<br></br>\n",
    "\n",
    "* Profesor:  <a href=\"http://www.pucp.edu.pe/profesor/jose-manuel-magallanes/\" target=\"_blank\">Dr. José Manuel Magallanes, PhD</a> ([jmagallanes@pucp.edu.pe](mailto:jmagallanes@pucp.edu.pe))<br>\n",
    "    - Profesor del **Departamento de Ciencias Sociales, Pontificia Universidad Católica del Peru**.<br>\n",
    "    - Senior Data Scientist del **eScience Institute** and Visiting Professor at **Evans School of Public Policy and Governance, University of Washington**.<br>\n",
    "    - Fellow Catalyst, **Berkeley Initiative for Transparency in Social Sciences, UC Berkeley**.\n",
    "\n",
    "\n",
    "## Parte 4:  Data Cleaning en Python"
   ]
  },
  {
   "cell_type": "markdown",
   "metadata": {},
   "source": [
    "El pre procesamiento de datos es la parte más tediosa del proceso de investigación.\n",
    "\n",
    "Esta primera parte delata diversos problemas que se tienen con los datos reales que están en la web, como la que vemos a continuación:"
   ]
  },
  {
   "cell_type": "code",
   "execution_count": 1,
   "metadata": {
    "scrolled": true
   },
   "outputs": [
    {
     "data": {
      "text/html": [
       "<iframe src=https://en.wikipedia.org/wiki/List_of_freedom_indices width=700 height=350></iframe>"
      ],
      "text/plain": [
       "<IPython.core.display.HTML object>"
      ]
     },
     "execution_count": 1,
     "metadata": {},
     "output_type": "execute_result"
    }
   ],
   "source": [
    "import IPython\n",
    "wikiLink=\"https://en.wikipedia.org/wiki/List_of_freedom_indices\" \n",
    "iframe = '<iframe src=' + wikiLink + ' width=700 height=350></iframe>'\n",
    "IPython.display.HTML(iframe)"
   ]
  },
  {
   "cell_type": "markdown",
   "metadata": {},
   "source": [
    "Recuerda inspeccionar la tabla para encontrar algun atributo que sirva para su descarga. De ahí, continua."
   ]
  },
  {
   "cell_type": "code",
   "execution_count": 2,
   "metadata": {},
   "outputs": [],
   "source": [
    "# antes instala'beautifulsoup4' y 'html5lib'\n",
    "# es posible que necesites salir y volver a cargar notebook\n",
    "\n",
    "import pandas as pd\n",
    "\n",
    "wikiTables=pd.read_html(wikiLink,header=0,flavor='bs4',attrs={'class': 'wikitable sortable'})"
   ]
  },
  {
   "cell_type": "code",
   "execution_count": 3,
   "metadata": {},
   "outputs": [
    {
     "data": {
      "text/plain": [
       "1"
      ]
     },
     "execution_count": 3,
     "metadata": {},
     "output_type": "execute_result"
    }
   ],
   "source": [
    "# cuantas tenemos?\n",
    "len(wikiTables)"
   ]
  },
  {
   "cell_type": "markdown",
   "metadata": {},
   "source": [
    "Hasta aquí todo parece bien. Como solo hay uno, lo traigo y comienzo a verificar 'suciedades'."
   ]
  },
  {
   "cell_type": "code",
   "execution_count": 4,
   "metadata": {},
   "outputs": [
    {
     "data": {
      "text/html": [
       "<div>\n",
       "<style scoped>\n",
       "    .dataframe tbody tr th:only-of-type {\n",
       "        vertical-align: middle;\n",
       "    }\n",
       "\n",
       "    .dataframe tbody tr th {\n",
       "        vertical-align: top;\n",
       "    }\n",
       "\n",
       "    .dataframe thead th {\n",
       "        text-align: right;\n",
       "    }\n",
       "</style>\n",
       "<table border=\"1\" class=\"dataframe\">\n",
       "  <thead>\n",
       "    <tr style=\"text-align: right;\">\n",
       "      <th></th>\n",
       "      <th>Country</th>\n",
       "      <th>Freedom in the World 2019[10]</th>\n",
       "      <th>2019 Index of Economic Freedom[11]</th>\n",
       "      <th>2019 Press Freedom Index[3]</th>\n",
       "      <th>2018 Democracy Index[13]</th>\n",
       "    </tr>\n",
       "  </thead>\n",
       "  <tbody>\n",
       "    <tr>\n",
       "      <th>0</th>\n",
       "      <td>Afghanistan</td>\n",
       "      <td>not free</td>\n",
       "      <td>mostly unfree</td>\n",
       "      <td>difficult situation</td>\n",
       "      <td>authoritarian regime</td>\n",
       "    </tr>\n",
       "    <tr>\n",
       "      <th>1</th>\n",
       "      <td>Albania</td>\n",
       "      <td>partly free</td>\n",
       "      <td>moderately free</td>\n",
       "      <td>noticeable problems</td>\n",
       "      <td>hybrid regime</td>\n",
       "    </tr>\n",
       "    <tr>\n",
       "      <th>2</th>\n",
       "      <td>Algeria</td>\n",
       "      <td>not free</td>\n",
       "      <td>repressed</td>\n",
       "      <td>difficult situation</td>\n",
       "      <td>authoritarian regime</td>\n",
       "    </tr>\n",
       "    <tr>\n",
       "      <th>3</th>\n",
       "      <td>Andorra</td>\n",
       "      <td>free</td>\n",
       "      <td>NaN</td>\n",
       "      <td>satisfactory situation</td>\n",
       "      <td>NaN</td>\n",
       "    </tr>\n",
       "    <tr>\n",
       "      <th>4</th>\n",
       "      <td>Angola</td>\n",
       "      <td>not free</td>\n",
       "      <td>mostly unfree</td>\n",
       "      <td>noticeable problems</td>\n",
       "      <td>authoritarian regime</td>\n",
       "    </tr>\n",
       "  </tbody>\n",
       "</table>\n",
       "</div>"
      ],
      "text/plain": [
       "       Country Freedom in the World 2019[10]  \\\n",
       "0  Afghanistan                      not free   \n",
       "1      Albania                   partly free   \n",
       "2      Algeria                      not free   \n",
       "3      Andorra                          free   \n",
       "4       Angola                      not free   \n",
       "\n",
       "  2019 Index of Economic Freedom[11] 2019 Press Freedom Index[3]  \\\n",
       "0                      mostly unfree         difficult situation   \n",
       "1                    moderately free         noticeable problems   \n",
       "2                          repressed         difficult situation   \n",
       "3                                NaN      satisfactory situation   \n",
       "4                      mostly unfree         noticeable problems   \n",
       "\n",
       "  2018 Democracy Index[13]  \n",
       "0     authoritarian regime  \n",
       "1            hybrid regime  \n",
       "2     authoritarian regime  \n",
       "3                      NaN  \n",
       "4     authoritarian regime  "
      ]
     },
     "execution_count": 4,
     "metadata": {},
     "output_type": "execute_result"
    }
   ],
   "source": [
    "DF=wikiTables[0]\n",
    "\n",
    "#primera mirada\n",
    "DF.head()"
   ]
  },
  {
   "cell_type": "markdown",
   "metadata": {},
   "source": [
    "La limpieza requiere estrategia. Lo primero que salta a la vista, son los _footnotes_ que están en los títulos:"
   ]
  },
  {
   "cell_type": "code",
   "execution_count": 5,
   "metadata": {},
   "outputs": [
    {
     "data": {
      "text/plain": [
       "Index(['Country', 'Freedom in the World 2019[10]',\n",
       "       '2019 Index of Economic Freedom[11]', '2019 Press Freedom Index[3]',\n",
       "       '2018 Democracy Index[13]'],\n",
       "      dtype='object')"
      ]
     },
     "execution_count": 5,
     "metadata": {},
     "output_type": "execute_result"
    }
   ],
   "source": [
    "DF.columns"
   ]
  },
  {
   "cell_type": "code",
   "execution_count": 6,
   "metadata": {},
   "outputs": [
    {
     "data": {
      "text/plain": [
       "[['Country'],\n",
       " ['Freedom in the World 2019', '10]'],\n",
       " ['2019 Index of Economic Freedom', '11]'],\n",
       " ['2019 Press Freedom Index', '3]'],\n",
       " ['2018 Democracy Index', '13]']]"
      ]
     },
     "execution_count": 6,
     "metadata": {},
     "output_type": "execute_result"
    }
   ],
   "source": [
    "# aqui ves que pasa cuando divido cada celda usando el caracter '['\n",
    "[element.split('[') for element in DF.columns]"
   ]
  },
  {
   "cell_type": "code",
   "execution_count": 7,
   "metadata": {},
   "outputs": [
    {
     "data": {
      "text/plain": [
       "['Country',\n",
       " 'Freedom in the World 2019',\n",
       " '2019 Index of Economic Freedom',\n",
       " '2019 Press Freedom Index',\n",
       " '2018 Democracy Index']"
      ]
     },
     "execution_count": 7,
     "metadata": {},
     "output_type": "execute_result"
    }
   ],
   "source": [
    "# Te das cuenta que te puedes quedar con el primer elemento cada vez que partes:\n",
    "[element.split('[')[0] for element in DF.columns]"
   ]
  },
  {
   "cell_type": "markdown",
   "metadata": {},
   "source": [
    "También hay que evitar espacios en blanco:"
   ]
  },
  {
   "cell_type": "code",
   "execution_count": 8,
   "metadata": {},
   "outputs": [
    {
     "data": {
      "text/plain": [
       "['Country',\n",
       " 'FreedomintheWorld2019',\n",
       " '2019IndexofEconomicFreedom',\n",
       " '2019PressFreedomIndex',\n",
       " '2018DemocracyIndex']"
      ]
     },
     "execution_count": 8,
     "metadata": {},
     "output_type": "execute_result"
    }
   ],
   "source": [
    "outSymbol=' ' \n",
    "inSymbol=''\n",
    "[element.split('[')[0].replace(outSymbol,inSymbol) for element in DF.columns]"
   ]
  },
  {
   "cell_type": "markdown",
   "metadata": {},
   "source": [
    "Los números también molestan, pero están en diferentes sitios. Mejor intentemos expresiones regulares:"
   ]
  },
  {
   "cell_type": "code",
   "execution_count": 9,
   "metadata": {},
   "outputs": [
    {
     "data": {
      "text/plain": [
       "['Country',\n",
       " 'FreedomintheWorld',\n",
       " 'IndexofEconomicFreedom',\n",
       " 'PressFreedomIndex',\n",
       " 'DemocracyIndex']"
      ]
     },
     "execution_count": 9,
     "metadata": {},
     "output_type": "execute_result"
    }
   ],
   "source": [
    "import re  # debe estar instalado.\n",
    "\n",
    "# espacios: \\\\s+\n",
    "# uno o mas numeros \\\\d+\n",
    "# bracket que abre \\\\[\n",
    "# bracket que cierra \\\\]\n",
    "\n",
    "pattern='\\\\s+|\\\\d+|\\\\[|\\\\]'\n",
    "nothing=''\n",
    "\n",
    "#substituyendo 'pattern' por 'nothing':\n",
    "[re.sub(pattern,nothing,element) for element in DF.columns]"
   ]
  },
  {
   "cell_type": "markdown",
   "metadata": {},
   "source": [
    "Ya tengo nuevos titulos de columna (headers)!!"
   ]
  },
  {
   "cell_type": "code",
   "execution_count": 10,
   "metadata": {},
   "outputs": [],
   "source": [
    "newHeaders=[re.sub(pattern,nothing,element) for element in DF.columns]"
   ]
  },
  {
   "cell_type": "markdown",
   "metadata": {},
   "source": [
    "Preparemos los cambios:"
   ]
  },
  {
   "cell_type": "code",
   "execution_count": 11,
   "metadata": {},
   "outputs": [
    {
     "data": {
      "text/plain": [
       "[('Country', 'Country'),\n",
       " ('Freedom in the World 2019[10]', 'FreedomintheWorld'),\n",
       " ('2019 Index of Economic Freedom[11]', 'IndexofEconomicFreedom'),\n",
       " ('2019 Press Freedom Index[3]', 'PressFreedomIndex'),\n",
       " ('2018 Democracy Index[13]', 'DemocracyIndex')]"
      ]
     },
     "execution_count": 11,
     "metadata": {},
     "output_type": "execute_result"
    }
   ],
   "source": [
    "list(zip(DF.columns,newHeaders))"
   ]
  },
  {
   "cell_type": "code",
   "execution_count": 12,
   "metadata": {},
   "outputs": [
    {
     "data": {
      "text/plain": [
       "{'2018 Democracy Index[13]': 'DemocracyIndex',\n",
       " '2019 Index of Economic Freedom[11]': 'IndexofEconomicFreedom',\n",
       " '2019 Press Freedom Index[3]': 'PressFreedomIndex',\n",
       " 'Country': 'Country',\n",
       " 'Freedom in the World 2019[10]': 'FreedomintheWorld'}"
      ]
     },
     "execution_count": 12,
     "metadata": {},
     "output_type": "execute_result"
    }
   ],
   "source": [
    "# veamos los cambios:\n",
    "{old:new for old,new in zip(DF.columns,newHeaders)}"
   ]
  },
  {
   "cell_type": "markdown",
   "metadata": {},
   "source": [
    "Uso un dict por si hubieses querido cambiar solo algunas columnas:"
   ]
  },
  {
   "cell_type": "code",
   "execution_count": 13,
   "metadata": {},
   "outputs": [],
   "source": [
    "changes={old:new for old,new in zip(DF.columns,newHeaders)}\n",
    "DF.rename(columns=changes,inplace=True)"
   ]
  },
  {
   "cell_type": "code",
   "execution_count": 14,
   "metadata": {},
   "outputs": [
    {
     "data": {
      "text/html": [
       "<div>\n",
       "<style scoped>\n",
       "    .dataframe tbody tr th:only-of-type {\n",
       "        vertical-align: middle;\n",
       "    }\n",
       "\n",
       "    .dataframe tbody tr th {\n",
       "        vertical-align: top;\n",
       "    }\n",
       "\n",
       "    .dataframe thead th {\n",
       "        text-align: right;\n",
       "    }\n",
       "</style>\n",
       "<table border=\"1\" class=\"dataframe\">\n",
       "  <thead>\n",
       "    <tr style=\"text-align: right;\">\n",
       "      <th></th>\n",
       "      <th>Country</th>\n",
       "      <th>FreedomintheWorld</th>\n",
       "      <th>IndexofEconomicFreedom</th>\n",
       "      <th>PressFreedomIndex</th>\n",
       "      <th>DemocracyIndex</th>\n",
       "    </tr>\n",
       "  </thead>\n",
       "  <tbody>\n",
       "    <tr>\n",
       "      <th>0</th>\n",
       "      <td>Afghanistan</td>\n",
       "      <td>not free</td>\n",
       "      <td>mostly unfree</td>\n",
       "      <td>difficult situation</td>\n",
       "      <td>authoritarian regime</td>\n",
       "    </tr>\n",
       "    <tr>\n",
       "      <th>1</th>\n",
       "      <td>Albania</td>\n",
       "      <td>partly free</td>\n",
       "      <td>moderately free</td>\n",
       "      <td>noticeable problems</td>\n",
       "      <td>hybrid regime</td>\n",
       "    </tr>\n",
       "    <tr>\n",
       "      <th>2</th>\n",
       "      <td>Algeria</td>\n",
       "      <td>not free</td>\n",
       "      <td>repressed</td>\n",
       "      <td>difficult situation</td>\n",
       "      <td>authoritarian regime</td>\n",
       "    </tr>\n",
       "    <tr>\n",
       "      <th>3</th>\n",
       "      <td>Andorra</td>\n",
       "      <td>free</td>\n",
       "      <td>NaN</td>\n",
       "      <td>satisfactory situation</td>\n",
       "      <td>NaN</td>\n",
       "    </tr>\n",
       "    <tr>\n",
       "      <th>4</th>\n",
       "      <td>Angola</td>\n",
       "      <td>not free</td>\n",
       "      <td>mostly unfree</td>\n",
       "      <td>noticeable problems</td>\n",
       "      <td>authoritarian regime</td>\n",
       "    </tr>\n",
       "  </tbody>\n",
       "</table>\n",
       "</div>"
      ],
      "text/plain": [
       "       Country FreedomintheWorld IndexofEconomicFreedom  \\\n",
       "0  Afghanistan          not free          mostly unfree   \n",
       "1      Albania       partly free        moderately free   \n",
       "2      Algeria          not free              repressed   \n",
       "3      Andorra              free                    NaN   \n",
       "4       Angola          not free          mostly unfree   \n",
       "\n",
       "        PressFreedomIndex        DemocracyIndex  \n",
       "0     difficult situation  authoritarian regime  \n",
       "1     noticeable problems         hybrid regime  \n",
       "2     difficult situation  authoritarian regime  \n",
       "3  satisfactory situation                   NaN  \n",
       "4     noticeable problems  authoritarian regime  "
      ]
     },
     "execution_count": 14,
     "metadata": {},
     "output_type": "execute_result"
    }
   ],
   "source": [
    "# ahora tenemos:\n",
    "DF.head()"
   ]
  },
  {
   "cell_type": "markdown",
   "metadata": {},
   "source": [
    "Las columnas son categorías, veamos si todas se han escrito de la manera correcta:"
   ]
  },
  {
   "cell_type": "code",
   "execution_count": 15,
   "metadata": {},
   "outputs": [
    {
     "data": {
      "text/plain": [
       "free           87\n",
       "partly free    62\n",
       "not free       55\n",
       "Name: FreedomintheWorld, dtype: int64"
      ]
     },
     "execution_count": 15,
     "metadata": {},
     "output_type": "execute_result"
    }
   ],
   "source": [
    "DF.FreedomintheWorld.value_counts()"
   ]
  },
  {
   "cell_type": "code",
   "execution_count": 16,
   "metadata": {},
   "outputs": [
    {
     "data": {
      "text/plain": [
       "mostly unfree      64\n",
       "moderately free    59\n",
       "mostly free        29\n",
       "repressed          22\n",
       "free                6\n",
       "Name: IndexofEconomicFreedom, dtype: int64"
      ]
     },
     "execution_count": 16,
     "metadata": {},
     "output_type": "execute_result"
    }
   ],
   "source": [
    "DF.IndexofEconomicFreedom.value_counts()"
   ]
  },
  {
   "cell_type": "code",
   "execution_count": 17,
   "metadata": {},
   "outputs": [
    {
     "data": {
      "text/plain": [
       "noticeable problems       73\n",
       "difficult situation       53\n",
       "satisfactory situation    28\n",
       "very serious situation    19\n",
       "good situation            15\n",
       "mostly free                1\n",
       "Name: PressFreedomIndex, dtype: int64"
      ]
     },
     "execution_count": 17,
     "metadata": {},
     "output_type": "execute_result"
    }
   ],
   "source": [
    "DF.PressFreedomIndex.value_counts()"
   ]
  },
  {
   "cell_type": "code",
   "execution_count": 18,
   "metadata": {},
   "outputs": [
    {
     "data": {
      "text/plain": [
       "flawed democracy        55\n",
       "authoritarian regime    53\n",
       "hybrid regime           39\n",
       "full democracy          20\n",
       "Name: DemocracyIndex, dtype: int64"
      ]
     },
     "execution_count": 18,
     "metadata": {},
     "output_type": "execute_result"
    }
   ],
   "source": [
    "DF.DemocracyIndex.value_counts()"
   ]
  },
  {
   "cell_type": "markdown",
   "metadata": {},
   "source": [
    "### Ejercicio\n",
    "\n",
    "Traer y limpiar la tabla que se ubica es este [link](https://www.cia.gov/library/publications/resources/the-world-factbook/fields/349.html)"
   ]
  },
  {
   "cell_type": "code",
   "execution_count": 21,
   "metadata": {},
   "outputs": [],
   "source": [
    "import IPython\n",
    "ciaLink=\"https://www.cia.gov/library/publications/resources/the-world-factbook/fields/349.html\" \n",
    "ciaTables=pd.read_html(ciaLink,header=0,flavor='bs4',attrs={'id': 'fieldListing'})\n",
    "ciaTable=ciaTables[0]"
   ]
  },
  {
   "cell_type": "code",
   "execution_count": 23,
   "metadata": {},
   "outputs": [
    {
     "data": {
      "text/html": [
       "<div>\n",
       "<style scoped>\n",
       "    .dataframe tbody tr th:only-of-type {\n",
       "        vertical-align: middle;\n",
       "    }\n",
       "\n",
       "    .dataframe tbody tr th {\n",
       "        vertical-align: top;\n",
       "    }\n",
       "\n",
       "    .dataframe thead th {\n",
       "        text-align: right;\n",
       "    }\n",
       "</style>\n",
       "<table border=\"1\" class=\"dataframe\">\n",
       "  <thead>\n",
       "    <tr style=\"text-align: right;\">\n",
       "      <th></th>\n",
       "      <th>Country</th>\n",
       "      <th>Urbanization</th>\n",
       "    </tr>\n",
       "  </thead>\n",
       "  <tbody>\n",
       "    <tr>\n",
       "      <th>0</th>\n",
       "      <td>Afghanistan</td>\n",
       "      <td>urban population:  25.5% of total population  ...</td>\n",
       "    </tr>\n",
       "    <tr>\n",
       "      <th>1</th>\n",
       "      <td>Albania</td>\n",
       "      <td>urban population:  60.3% of total population  ...</td>\n",
       "    </tr>\n",
       "    <tr>\n",
       "      <th>2</th>\n",
       "      <td>Algeria</td>\n",
       "      <td>urban population:  72.6% of total population  ...</td>\n",
       "    </tr>\n",
       "  </tbody>\n",
       "</table>\n",
       "</div>"
      ],
      "text/plain": [
       "       Country                                       Urbanization\n",
       "0  Afghanistan  urban population:  25.5% of total population  ...\n",
       "1      Albania  urban population:  60.3% of total population  ...\n",
       "2      Algeria  urban population:  72.6% of total population  ..."
      ]
     },
     "execution_count": 23,
     "metadata": {},
     "output_type": "execute_result"
    }
   ],
   "source": [
    "ciaTable.head(3)"
   ]
  },
  {
   "cell_type": "code",
   "execution_count": 33,
   "metadata": {},
   "outputs": [],
   "source": [
    "\n",
    "\n",
    "ciaTable['urbPop']=[v.split('rate of ')[0].split('%')[0].split(':  ')[1] for v in ciaTable.Urbanization]"
   ]
  },
  {
   "cell_type": "code",
   "execution_count": 40,
   "metadata": {},
   "outputs": [],
   "source": [
    "ciaTable['rateUrb']=[v.split('rate of ')[1].split('%')[0].split(':  ')[1] for v in ciaTable.Urbanization]"
   ]
  },
  {
   "cell_type": "code",
   "execution_count": 41,
   "metadata": {},
   "outputs": [
    {
     "data": {
      "text/html": [
       "<div>\n",
       "<style scoped>\n",
       "    .dataframe tbody tr th:only-of-type {\n",
       "        vertical-align: middle;\n",
       "    }\n",
       "\n",
       "    .dataframe tbody tr th {\n",
       "        vertical-align: top;\n",
       "    }\n",
       "\n",
       "    .dataframe thead th {\n",
       "        text-align: right;\n",
       "    }\n",
       "</style>\n",
       "<table border=\"1\" class=\"dataframe\">\n",
       "  <thead>\n",
       "    <tr style=\"text-align: right;\">\n",
       "      <th></th>\n",
       "      <th>Country</th>\n",
       "      <th>Urbanization</th>\n",
       "      <th>urbPop</th>\n",
       "      <th>rateUrb</th>\n",
       "    </tr>\n",
       "  </thead>\n",
       "  <tbody>\n",
       "    <tr>\n",
       "      <th>0</th>\n",
       "      <td>Afghanistan</td>\n",
       "      <td>urban population:  25.5% of total population  ...</td>\n",
       "      <td>25.5</td>\n",
       "      <td>3.37</td>\n",
       "    </tr>\n",
       "    <tr>\n",
       "      <th>1</th>\n",
       "      <td>Albania</td>\n",
       "      <td>urban population:  60.3% of total population  ...</td>\n",
       "      <td>60.3</td>\n",
       "      <td>1.69</td>\n",
       "    </tr>\n",
       "    <tr>\n",
       "      <th>2</th>\n",
       "      <td>Algeria</td>\n",
       "      <td>urban population:  72.6% of total population  ...</td>\n",
       "      <td>72.6</td>\n",
       "      <td>2.46</td>\n",
       "    </tr>\n",
       "    <tr>\n",
       "      <th>3</th>\n",
       "      <td>American Samoa</td>\n",
       "      <td>urban population:  87.2% of total population  ...</td>\n",
       "      <td>87.2</td>\n",
       "      <td>0.07</td>\n",
       "    </tr>\n",
       "    <tr>\n",
       "      <th>4</th>\n",
       "      <td>Andorra</td>\n",
       "      <td>urban population:  88.1% of total population  ...</td>\n",
       "      <td>88.1</td>\n",
       "      <td>-0.31</td>\n",
       "    </tr>\n",
       "    <tr>\n",
       "      <th>5</th>\n",
       "      <td>Angola</td>\n",
       "      <td>urban population:  65.5% of total population  ...</td>\n",
       "      <td>65.5</td>\n",
       "      <td>4.32</td>\n",
       "    </tr>\n",
       "    <tr>\n",
       "      <th>6</th>\n",
       "      <td>Anguilla</td>\n",
       "      <td>urban population:  100% of total population  (...</td>\n",
       "      <td>100</td>\n",
       "      <td>0.9</td>\n",
       "    </tr>\n",
       "    <tr>\n",
       "      <th>7</th>\n",
       "      <td>Antigua and Barbuda</td>\n",
       "      <td>urban population:  24.6% of total population  ...</td>\n",
       "      <td>24.6</td>\n",
       "      <td>0.55</td>\n",
       "    </tr>\n",
       "    <tr>\n",
       "      <th>8</th>\n",
       "      <td>Argentina</td>\n",
       "      <td>urban population:  91.9% of total population  ...</td>\n",
       "      <td>91.9</td>\n",
       "      <td>1.07</td>\n",
       "    </tr>\n",
       "    <tr>\n",
       "      <th>9</th>\n",
       "      <td>Armenia</td>\n",
       "      <td>urban population:  63.1% of total population  ...</td>\n",
       "      <td>63.1</td>\n",
       "      <td>0.22</td>\n",
       "    </tr>\n",
       "    <tr>\n",
       "      <th>10</th>\n",
       "      <td>Aruba</td>\n",
       "      <td>urban population:  43.4% of total population  ...</td>\n",
       "      <td>43.4</td>\n",
       "      <td>0.67</td>\n",
       "    </tr>\n",
       "    <tr>\n",
       "      <th>11</th>\n",
       "      <td>Australia</td>\n",
       "      <td>urban population:  86% of total population  (2...</td>\n",
       "      <td>86</td>\n",
       "      <td>1.43</td>\n",
       "    </tr>\n",
       "    <tr>\n",
       "      <th>12</th>\n",
       "      <td>Austria</td>\n",
       "      <td>urban population:  58.3% of total population  ...</td>\n",
       "      <td>58.3</td>\n",
       "      <td>0.59</td>\n",
       "    </tr>\n",
       "    <tr>\n",
       "      <th>13</th>\n",
       "      <td>Azerbaijan</td>\n",
       "      <td>urban population:  55.7% of total population  ...</td>\n",
       "      <td>55.7</td>\n",
       "      <td>1.58</td>\n",
       "    </tr>\n",
       "    <tr>\n",
       "      <th>14</th>\n",
       "      <td>Bahamas, The</td>\n",
       "      <td>urban population:  83% of total population  (2...</td>\n",
       "      <td>83</td>\n",
       "      <td>1.13</td>\n",
       "    </tr>\n",
       "    <tr>\n",
       "      <th>15</th>\n",
       "      <td>Bahrain</td>\n",
       "      <td>urban population:  89.3% of total population  ...</td>\n",
       "      <td>89.3</td>\n",
       "      <td>4.38</td>\n",
       "    </tr>\n",
       "    <tr>\n",
       "      <th>16</th>\n",
       "      <td>Bangladesh</td>\n",
       "      <td>urban population:  36.6% of total population  ...</td>\n",
       "      <td>36.6</td>\n",
       "      <td>3.17</td>\n",
       "    </tr>\n",
       "    <tr>\n",
       "      <th>17</th>\n",
       "      <td>Barbados</td>\n",
       "      <td>urban population:  31.1% of total population  ...</td>\n",
       "      <td>31.1</td>\n",
       "      <td>0.2</td>\n",
       "    </tr>\n",
       "    <tr>\n",
       "      <th>18</th>\n",
       "      <td>Belarus</td>\n",
       "      <td>urban population:  78.6% of total population  ...</td>\n",
       "      <td>78.6</td>\n",
       "      <td>0.44</td>\n",
       "    </tr>\n",
       "    <tr>\n",
       "      <th>19</th>\n",
       "      <td>Belgium</td>\n",
       "      <td>urban population:  98% of total population  (2...</td>\n",
       "      <td>98</td>\n",
       "      <td>0.62</td>\n",
       "    </tr>\n",
       "    <tr>\n",
       "      <th>20</th>\n",
       "      <td>Belize</td>\n",
       "      <td>urban population:  45.7% of total population  ...</td>\n",
       "      <td>45.7</td>\n",
       "      <td>2.32</td>\n",
       "    </tr>\n",
       "    <tr>\n",
       "      <th>21</th>\n",
       "      <td>Benin</td>\n",
       "      <td>urban population:  47.3% of total population  ...</td>\n",
       "      <td>47.3</td>\n",
       "      <td>3.89</td>\n",
       "    </tr>\n",
       "    <tr>\n",
       "      <th>22</th>\n",
       "      <td>Bermuda</td>\n",
       "      <td>urban population:  100% of total population  (...</td>\n",
       "      <td>100</td>\n",
       "      <td>-0.44</td>\n",
       "    </tr>\n",
       "    <tr>\n",
       "      <th>23</th>\n",
       "      <td>Bhutan</td>\n",
       "      <td>urban population:  40.9% of total population  ...</td>\n",
       "      <td>40.9</td>\n",
       "      <td>2.98</td>\n",
       "    </tr>\n",
       "    <tr>\n",
       "      <th>24</th>\n",
       "      <td>Bolivia</td>\n",
       "      <td>urban population:  69.4% of total population  ...</td>\n",
       "      <td>69.4</td>\n",
       "      <td>1.97</td>\n",
       "    </tr>\n",
       "    <tr>\n",
       "      <th>25</th>\n",
       "      <td>Bosnia and Herzegovina</td>\n",
       "      <td>urban population:  48.2% of total population  ...</td>\n",
       "      <td>48.2</td>\n",
       "      <td>0.55</td>\n",
       "    </tr>\n",
       "    <tr>\n",
       "      <th>26</th>\n",
       "      <td>Botswana</td>\n",
       "      <td>urban population:  69.4% of total population  ...</td>\n",
       "      <td>69.4</td>\n",
       "      <td>2.87</td>\n",
       "    </tr>\n",
       "    <tr>\n",
       "      <th>27</th>\n",
       "      <td>Brazil</td>\n",
       "      <td>urban population:  86.6% of total population  ...</td>\n",
       "      <td>86.6</td>\n",
       "      <td>1.05</td>\n",
       "    </tr>\n",
       "    <tr>\n",
       "      <th>28</th>\n",
       "      <td>British Virgin Islands</td>\n",
       "      <td>urban population:  47.7% of total population  ...</td>\n",
       "      <td>47.7</td>\n",
       "      <td>2.42</td>\n",
       "    </tr>\n",
       "    <tr>\n",
       "      <th>29</th>\n",
       "      <td>Brunei</td>\n",
       "      <td>urban population:  77.6% of total population  ...</td>\n",
       "      <td>77.6</td>\n",
       "      <td>1.66</td>\n",
       "    </tr>\n",
       "    <tr>\n",
       "      <th>...</th>\n",
       "      <td>...</td>\n",
       "      <td>...</td>\n",
       "      <td>...</td>\n",
       "      <td>...</td>\n",
       "    </tr>\n",
       "    <tr>\n",
       "      <th>201</th>\n",
       "      <td>Tanzania</td>\n",
       "      <td>urban population:  33.8% of total population  ...</td>\n",
       "      <td>33.8</td>\n",
       "      <td>5.22</td>\n",
       "    </tr>\n",
       "    <tr>\n",
       "      <th>202</th>\n",
       "      <td>Thailand</td>\n",
       "      <td>urban population:  49.9% of total population  ...</td>\n",
       "      <td>49.9</td>\n",
       "      <td>1.73</td>\n",
       "    </tr>\n",
       "    <tr>\n",
       "      <th>203</th>\n",
       "      <td>Timor-Leste</td>\n",
       "      <td>urban population:  30.6% of total population  ...</td>\n",
       "      <td>30.6</td>\n",
       "      <td>3.35</td>\n",
       "    </tr>\n",
       "    <tr>\n",
       "      <th>204</th>\n",
       "      <td>Togo</td>\n",
       "      <td>urban population:  41.7% of total population  ...</td>\n",
       "      <td>41.7</td>\n",
       "      <td>3.76</td>\n",
       "    </tr>\n",
       "    <tr>\n",
       "      <th>205</th>\n",
       "      <td>Tokelau</td>\n",
       "      <td>urban population:  0% of total population  (20...</td>\n",
       "      <td>0</td>\n",
       "      <td>0</td>\n",
       "    </tr>\n",
       "    <tr>\n",
       "      <th>206</th>\n",
       "      <td>Tonga</td>\n",
       "      <td>urban population:  23.1% of total population  ...</td>\n",
       "      <td>23.1</td>\n",
       "      <td>0.71</td>\n",
       "    </tr>\n",
       "    <tr>\n",
       "      <th>207</th>\n",
       "      <td>Trinidad and Tobago</td>\n",
       "      <td>urban population:  53.2% of total population  ...</td>\n",
       "      <td>53.2</td>\n",
       "      <td>0.22</td>\n",
       "    </tr>\n",
       "    <tr>\n",
       "      <th>208</th>\n",
       "      <td>Tunisia</td>\n",
       "      <td>urban population:  68.9% of total population  ...</td>\n",
       "      <td>68.9</td>\n",
       "      <td>1.53</td>\n",
       "    </tr>\n",
       "    <tr>\n",
       "      <th>209</th>\n",
       "      <td>Turkey</td>\n",
       "      <td>urban population:  75.1% of total population  ...</td>\n",
       "      <td>75.1</td>\n",
       "      <td>2.04</td>\n",
       "    </tr>\n",
       "    <tr>\n",
       "      <th>210</th>\n",
       "      <td>Turkmenistan</td>\n",
       "      <td>urban population:  51.6% of total population  ...</td>\n",
       "      <td>51.6</td>\n",
       "      <td>2.46</td>\n",
       "    </tr>\n",
       "    <tr>\n",
       "      <th>211</th>\n",
       "      <td>Turks and Caicos Islands</td>\n",
       "      <td>urban population:  93.1% of total population  ...</td>\n",
       "      <td>93.1</td>\n",
       "      <td>1.77</td>\n",
       "    </tr>\n",
       "    <tr>\n",
       "      <th>212</th>\n",
       "      <td>Tuvalu</td>\n",
       "      <td>urban population:  62.4% of total population  ...</td>\n",
       "      <td>62.4</td>\n",
       "      <td>2.27</td>\n",
       "    </tr>\n",
       "    <tr>\n",
       "      <th>213</th>\n",
       "      <td>Uganda</td>\n",
       "      <td>urban population:  23.8% of total population  ...</td>\n",
       "      <td>23.8</td>\n",
       "      <td>5.7</td>\n",
       "    </tr>\n",
       "    <tr>\n",
       "      <th>214</th>\n",
       "      <td>Ukraine</td>\n",
       "      <td>urban population:  69.4% of total population  ...</td>\n",
       "      <td>69.4</td>\n",
       "      <td>-0.33</td>\n",
       "    </tr>\n",
       "    <tr>\n",
       "      <th>215</th>\n",
       "      <td>United Arab Emirates</td>\n",
       "      <td>urban population:  86.5% of total population  ...</td>\n",
       "      <td>86.5</td>\n",
       "      <td>1.71</td>\n",
       "    </tr>\n",
       "    <tr>\n",
       "      <th>216</th>\n",
       "      <td>United Kingdom</td>\n",
       "      <td>urban population:  83.4% of total population  ...</td>\n",
       "      <td>83.4</td>\n",
       "      <td>0.89</td>\n",
       "    </tr>\n",
       "    <tr>\n",
       "      <th>217</th>\n",
       "      <td>United States</td>\n",
       "      <td>urban population:  82.3% of total population  ...</td>\n",
       "      <td>82.3</td>\n",
       "      <td>0.95</td>\n",
       "    </tr>\n",
       "    <tr>\n",
       "      <th>218</th>\n",
       "      <td>Uruguay</td>\n",
       "      <td>urban population:  95.3% of total population  ...</td>\n",
       "      <td>95.3</td>\n",
       "      <td>0.46</td>\n",
       "    </tr>\n",
       "    <tr>\n",
       "      <th>219</th>\n",
       "      <td>Uzbekistan</td>\n",
       "      <td>urban population:  50.5% of total population  ...</td>\n",
       "      <td>50.5</td>\n",
       "      <td>1.28</td>\n",
       "    </tr>\n",
       "    <tr>\n",
       "      <th>220</th>\n",
       "      <td>Vanuatu</td>\n",
       "      <td>urban population:  25.3% of total population  ...</td>\n",
       "      <td>25.3</td>\n",
       "      <td>2.55</td>\n",
       "    </tr>\n",
       "    <tr>\n",
       "      <th>221</th>\n",
       "      <td>Venezuela</td>\n",
       "      <td>urban population:  88.2% of total population  ...</td>\n",
       "      <td>88.2</td>\n",
       "      <td>1.28</td>\n",
       "    </tr>\n",
       "    <tr>\n",
       "      <th>222</th>\n",
       "      <td>Vietnam</td>\n",
       "      <td>urban population:  35.9% of total population  ...</td>\n",
       "      <td>35.9</td>\n",
       "      <td>2.98</td>\n",
       "    </tr>\n",
       "    <tr>\n",
       "      <th>223</th>\n",
       "      <td>Virgin Islands</td>\n",
       "      <td>urban population:  95.7% of total population  ...</td>\n",
       "      <td>95.7</td>\n",
       "      <td>0.1</td>\n",
       "    </tr>\n",
       "    <tr>\n",
       "      <th>224</th>\n",
       "      <td>Wallis and Futuna</td>\n",
       "      <td>urban population:  0% of total population  (20...</td>\n",
       "      <td>0</td>\n",
       "      <td>0</td>\n",
       "    </tr>\n",
       "    <tr>\n",
       "      <th>225</th>\n",
       "      <td>West Bank</td>\n",
       "      <td>urban population:  76.2% of total population  ...</td>\n",
       "      <td>76.2</td>\n",
       "      <td>3</td>\n",
       "    </tr>\n",
       "    <tr>\n",
       "      <th>226</th>\n",
       "      <td>Western Sahara</td>\n",
       "      <td>urban population:  86.7% of total population  ...</td>\n",
       "      <td>86.7</td>\n",
       "      <td>2.61</td>\n",
       "    </tr>\n",
       "    <tr>\n",
       "      <th>227</th>\n",
       "      <td>World</td>\n",
       "      <td>urban population:  55.3% of total population  ...</td>\n",
       "      <td>55.3</td>\n",
       "      <td>1.9</td>\n",
       "    </tr>\n",
       "    <tr>\n",
       "      <th>228</th>\n",
       "      <td>Yemen</td>\n",
       "      <td>urban population:  36.6% of total population  ...</td>\n",
       "      <td>36.6</td>\n",
       "      <td>4.06</td>\n",
       "    </tr>\n",
       "    <tr>\n",
       "      <th>229</th>\n",
       "      <td>Zambia</td>\n",
       "      <td>urban population:  43.5% of total population  ...</td>\n",
       "      <td>43.5</td>\n",
       "      <td>4.23</td>\n",
       "    </tr>\n",
       "    <tr>\n",
       "      <th>230</th>\n",
       "      <td>Zimbabwe</td>\n",
       "      <td>urban population:  32.2% of total population  ...</td>\n",
       "      <td>32.2</td>\n",
       "      <td>2.19</td>\n",
       "    </tr>\n",
       "  </tbody>\n",
       "</table>\n",
       "<p>231 rows × 4 columns</p>\n",
       "</div>"
      ],
      "text/plain": [
       "                      Country  \\\n",
       "0                 Afghanistan   \n",
       "1                     Albania   \n",
       "2                     Algeria   \n",
       "3              American Samoa   \n",
       "4                     Andorra   \n",
       "5                      Angola   \n",
       "6                    Anguilla   \n",
       "7         Antigua and Barbuda   \n",
       "8                   Argentina   \n",
       "9                     Armenia   \n",
       "10                      Aruba   \n",
       "11                  Australia   \n",
       "12                    Austria   \n",
       "13                 Azerbaijan   \n",
       "14               Bahamas, The   \n",
       "15                    Bahrain   \n",
       "16                 Bangladesh   \n",
       "17                   Barbados   \n",
       "18                    Belarus   \n",
       "19                    Belgium   \n",
       "20                     Belize   \n",
       "21                      Benin   \n",
       "22                    Bermuda   \n",
       "23                     Bhutan   \n",
       "24                    Bolivia   \n",
       "25     Bosnia and Herzegovina   \n",
       "26                   Botswana   \n",
       "27                     Brazil   \n",
       "28     British Virgin Islands   \n",
       "29                     Brunei   \n",
       "..                        ...   \n",
       "201                  Tanzania   \n",
       "202                  Thailand   \n",
       "203               Timor-Leste   \n",
       "204                      Togo   \n",
       "205                   Tokelau   \n",
       "206                     Tonga   \n",
       "207       Trinidad and Tobago   \n",
       "208                   Tunisia   \n",
       "209                    Turkey   \n",
       "210              Turkmenistan   \n",
       "211  Turks and Caicos Islands   \n",
       "212                    Tuvalu   \n",
       "213                    Uganda   \n",
       "214                   Ukraine   \n",
       "215      United Arab Emirates   \n",
       "216            United Kingdom   \n",
       "217             United States   \n",
       "218                   Uruguay   \n",
       "219                Uzbekistan   \n",
       "220                   Vanuatu   \n",
       "221                 Venezuela   \n",
       "222                   Vietnam   \n",
       "223            Virgin Islands   \n",
       "224         Wallis and Futuna   \n",
       "225                 West Bank   \n",
       "226            Western Sahara   \n",
       "227                     World   \n",
       "228                     Yemen   \n",
       "229                    Zambia   \n",
       "230                  Zimbabwe   \n",
       "\n",
       "                                          Urbanization urbPop rateUrb  \n",
       "0    urban population:  25.5% of total population  ...   25.5    3.37  \n",
       "1    urban population:  60.3% of total population  ...   60.3    1.69  \n",
       "2    urban population:  72.6% of total population  ...   72.6    2.46  \n",
       "3    urban population:  87.2% of total population  ...   87.2    0.07  \n",
       "4    urban population:  88.1% of total population  ...   88.1   -0.31  \n",
       "5    urban population:  65.5% of total population  ...   65.5    4.32  \n",
       "6    urban population:  100% of total population  (...    100     0.9  \n",
       "7    urban population:  24.6% of total population  ...   24.6    0.55  \n",
       "8    urban population:  91.9% of total population  ...   91.9    1.07  \n",
       "9    urban population:  63.1% of total population  ...   63.1    0.22  \n",
       "10   urban population:  43.4% of total population  ...   43.4    0.67  \n",
       "11   urban population:  86% of total population  (2...     86    1.43  \n",
       "12   urban population:  58.3% of total population  ...   58.3    0.59  \n",
       "13   urban population:  55.7% of total population  ...   55.7    1.58  \n",
       "14   urban population:  83% of total population  (2...     83    1.13  \n",
       "15   urban population:  89.3% of total population  ...   89.3    4.38  \n",
       "16   urban population:  36.6% of total population  ...   36.6    3.17  \n",
       "17   urban population:  31.1% of total population  ...   31.1     0.2  \n",
       "18   urban population:  78.6% of total population  ...   78.6    0.44  \n",
       "19   urban population:  98% of total population  (2...     98    0.62  \n",
       "20   urban population:  45.7% of total population  ...   45.7    2.32  \n",
       "21   urban population:  47.3% of total population  ...   47.3    3.89  \n",
       "22   urban population:  100% of total population  (...    100   -0.44  \n",
       "23   urban population:  40.9% of total population  ...   40.9    2.98  \n",
       "24   urban population:  69.4% of total population  ...   69.4    1.97  \n",
       "25   urban population:  48.2% of total population  ...   48.2    0.55  \n",
       "26   urban population:  69.4% of total population  ...   69.4    2.87  \n",
       "27   urban population:  86.6% of total population  ...   86.6    1.05  \n",
       "28   urban population:  47.7% of total population  ...   47.7    2.42  \n",
       "29   urban population:  77.6% of total population  ...   77.6    1.66  \n",
       "..                                                 ...    ...     ...  \n",
       "201  urban population:  33.8% of total population  ...   33.8    5.22  \n",
       "202  urban population:  49.9% of total population  ...   49.9    1.73  \n",
       "203  urban population:  30.6% of total population  ...   30.6    3.35  \n",
       "204  urban population:  41.7% of total population  ...   41.7    3.76  \n",
       "205  urban population:  0% of total population  (20...      0       0  \n",
       "206  urban population:  23.1% of total population  ...   23.1    0.71  \n",
       "207  urban population:  53.2% of total population  ...   53.2    0.22  \n",
       "208  urban population:  68.9% of total population  ...   68.9    1.53  \n",
       "209  urban population:  75.1% of total population  ...   75.1    2.04  \n",
       "210  urban population:  51.6% of total population  ...   51.6    2.46  \n",
       "211  urban population:  93.1% of total population  ...   93.1    1.77  \n",
       "212  urban population:  62.4% of total population  ...   62.4    2.27  \n",
       "213  urban population:  23.8% of total population  ...   23.8     5.7  \n",
       "214  urban population:  69.4% of total population  ...   69.4   -0.33  \n",
       "215  urban population:  86.5% of total population  ...   86.5    1.71  \n",
       "216  urban population:  83.4% of total population  ...   83.4    0.89  \n",
       "217  urban population:  82.3% of total population  ...   82.3    0.95  \n",
       "218  urban population:  95.3% of total population  ...   95.3    0.46  \n",
       "219  urban population:  50.5% of total population  ...   50.5    1.28  \n",
       "220  urban population:  25.3% of total population  ...   25.3    2.55  \n",
       "221  urban population:  88.2% of total population  ...   88.2    1.28  \n",
       "222  urban population:  35.9% of total population  ...   35.9    2.98  \n",
       "223  urban population:  95.7% of total population  ...   95.7     0.1  \n",
       "224  urban population:  0% of total population  (20...      0       0  \n",
       "225  urban population:  76.2% of total population  ...   76.2       3  \n",
       "226  urban population:  86.7% of total population  ...   86.7    2.61  \n",
       "227  urban population:  55.3% of total population  ...   55.3     1.9  \n",
       "228  urban population:  36.6% of total population  ...   36.6    4.06  \n",
       "229  urban population:  43.5% of total population  ...   43.5    4.23  \n",
       "230  urban population:  32.2% of total population  ...   32.2    2.19  \n",
       "\n",
       "[231 rows x 4 columns]"
      ]
     },
     "execution_count": 41,
     "metadata": {},
     "output_type": "execute_result"
    }
   ],
   "source": [
    "ciaTable"
   ]
  },
  {
   "cell_type": "markdown",
   "metadata": {},
   "source": [
    "____\n",
    "\n",
    "[Ir a inicio](#beginning)"
   ]
  },
  {
   "cell_type": "markdown",
   "metadata": {},
   "source": [
    "_____\n",
    "\n",
    "**AUSPICIO**: \n",
    "\n",
    "* El desarrollo de estos contenidos ha sido posible gracias al grant del Berkeley Initiative for Transparency in the Social Sciences (BITSS) at the Center for Effective Global Action (CEGA) at the University of California, Berkeley\n",
    "\n",
    "\n",
    "<center>\n",
    "<img src=\"https://www.bitss.org/wp-content/uploads/2015/07/bitss-55a55026v1_site_icon.png\" style=\"width: 200px;\"/>\n",
    "</center>\n",
    "\n",
    "* Este curso cuenta con el auspicio de:\n",
    "\n",
    "\n",
    "<center>\n",
    "<img src=\"https://www.python.org/static/img/psf-logo@2x.png\" style=\"width: 500px;\"/>\n",
    "</center>\n",
    "\n",
    "\n",
    "\n",
    "**RECONOCIMIENTO**\n",
    "\n",
    "\n",
    "EL Dr. Magallanes agradece a la Pontificia Universidad Católica del Perú, por su apoyo en la participación en la Escuela ALACIP.\n",
    "\n",
    "<center>\n",
    "<img src=\"https://dci.pucp.edu.pe/wp-content/uploads/2014/02/Logotipo_colores-290x145.jpg\" style=\"width: 400px;\"/>\n",
    "</center>\n",
    "\n",
    "\n",
    "El autor reconoce el apoyo que el eScience Institute de la Universidad de Washington le ha brindado desde el 2015 para desarrollar su investigación en Ciencia de Datos.\n",
    "\n",
    "<center>\n",
    "<img src=\"https://escience.washington.edu/wp-content/uploads/2015/10/eScience_Logo_HR.png\" style=\"width: 500px;\"/>\n",
    "</center>\n",
    "\n",
    "<br>\n",
    "<br>"
   ]
  },
  {
   "cell_type": "code",
   "execution_count": null,
   "metadata": {},
   "outputs": [],
   "source": []
  }
 ],
 "metadata": {
  "anaconda-cloud": {},
  "hide_input": false,
  "kernelspec": {
   "display_name": "Python 3",
   "language": "python",
   "name": "python3"
  },
  "language_info": {
   "codemirror_mode": {
    "name": "ipython",
    "version": 3
   },
   "file_extension": ".py",
   "mimetype": "text/x-python",
   "name": "python",
   "nbconvert_exporter": "python",
   "pygments_lexer": "ipython3",
   "version": "3.6.8"
  }
 },
 "nbformat": 4,
 "nbformat_minor": 1
}
