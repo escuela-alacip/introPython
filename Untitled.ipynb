{
 "cells": [
  {
   "cell_type": "code",
   "execution_count": 1,
   "metadata": {},
   "outputs": [
    {
     "data": {
      "text/plain": [
       "2"
      ]
     },
     "execution_count": 1,
     "metadata": {},
     "output_type": "execute_result"
    }
   ],
   "source": [
    "1+1"
   ]
  },
  {
   "cell_type": "markdown",
   "metadata": {},
   "source": [
    "# Hola"
   ]
  },
  {
   "cell_type": "code",
   "execution_count": 2,
   "metadata": {},
   "outputs": [
    {
     "ename": "NameError",
     "evalue": "name 'hola' is not defined",
     "output_type": "error",
     "traceback": [
      "\u001b[0;31m---------------------------------------------------------------------------\u001b[0m",
      "\u001b[0;31mNameError\u001b[0m                                 Traceback (most recent call last)",
      "\u001b[0;32m<ipython-input-2-916f4c31aaa3>\u001b[0m in \u001b[0;36m<module>\u001b[0;34m()\u001b[0m\n\u001b[0;32m----> 1\u001b[0;31m \u001b[0mhola\u001b[0m\u001b[0;34m\u001b[0m\u001b[0;34m\u001b[0m\u001b[0m\n\u001b[0m",
      "\u001b[0;31mNameError\u001b[0m: name 'hola' is not defined"
     ]
    }
   ],
   "source": [
    "hola"
   ]
  },
  {
   "cell_type": "code",
   "execution_count": 3,
   "metadata": {},
   "outputs": [],
   "source": [
    "hola=\"HOLA\""
   ]
  },
  {
   "cell_type": "code",
   "execution_count": 4,
   "metadata": {},
   "outputs": [
    {
     "data": {
      "text/plain": [
       "'HOLA'"
      ]
     },
     "execution_count": 4,
     "metadata": {},
     "output_type": "execute_result"
    }
   ],
   "source": [
    "hola"
   ]
  },
  {
   "cell_type": "code",
   "execution_count": 5,
   "metadata": {},
   "outputs": [],
   "source": [
    "hola=3"
   ]
  },
  {
   "cell_type": "code",
   "execution_count": 6,
   "metadata": {},
   "outputs": [
    {
     "data": {
      "text/plain": [
       "3"
      ]
     },
     "execution_count": 6,
     "metadata": {},
     "output_type": "execute_result"
    }
   ],
   "source": [
    "hola"
   ]
  },
  {
   "cell_type": "code",
   "execution_count": 7,
   "metadata": {},
   "outputs": [],
   "source": [
    "jose=23"
   ]
  },
  {
   "cell_type": "code",
   "execution_count": 8,
   "metadata": {},
   "outputs": [
    {
     "data": {
      "text/plain": [
       "23"
      ]
     },
     "execution_count": 8,
     "metadata": {},
     "output_type": "execute_result"
    }
   ],
   "source": [
    "jose"
   ]
  },
  {
   "cell_type": "code",
   "execution_count": 9,
   "metadata": {},
   "outputs": [
    {
     "ename": "SyntaxError",
     "evalue": "invalid syntax (<ipython-input-9-2d4db077c3d1>, line 1)",
     "output_type": "error",
     "traceback": [
      "\u001b[0;36m  File \u001b[0;32m\"<ipython-input-9-2d4db077c3d1>\"\u001b[0;36m, line \u001b[0;32m1\u001b[0m\n\u001b[0;31m    jose manuel=23\u001b[0m\n\u001b[0m              ^\u001b[0m\n\u001b[0;31mSyntaxError\u001b[0m\u001b[0;31m:\u001b[0m invalid syntax\n"
     ]
    }
   ],
   "source": [
    "jose manuel=23"
   ]
  },
  {
   "cell_type": "code",
   "execution_count": 10,
   "metadata": {},
   "outputs": [],
   "source": [
    "jose_manuel=23"
   ]
  },
  {
   "cell_type": "code",
   "execution_count": 11,
   "metadata": {},
   "outputs": [
    {
     "ename": "SyntaxError",
     "evalue": "can't assign to operator (<ipython-input-11-d8c4d8c485c5>, line 1)",
     "output_type": "error",
     "traceback": [
      "\u001b[0;36m  File \u001b[0;32m\"<ipython-input-11-d8c4d8c485c5>\"\u001b[0;36m, line \u001b[0;32m1\u001b[0m\n\u001b[0;31m    jose@manuel=22\u001b[0m\n\u001b[0m                  ^\u001b[0m\n\u001b[0;31mSyntaxError\u001b[0m\u001b[0;31m:\u001b[0m can't assign to operator\n"
     ]
    }
   ],
   "source": [
    "jose@manuel=22"
   ]
  },
  {
   "cell_type": "code",
   "execution_count": 12,
   "metadata": {},
   "outputs": [
    {
     "ename": "SyntaxError",
     "evalue": "invalid syntax (<ipython-input-12-2e5289500755>, line 1)",
     "output_type": "error",
     "traceback": [
      "\u001b[0;36m  File \u001b[0;32m\"<ipython-input-12-2e5289500755>\"\u001b[0;36m, line \u001b[0;32m1\u001b[0m\n\u001b[0;31m    1jose=23\u001b[0m\n\u001b[0m        ^\u001b[0m\n\u001b[0;31mSyntaxError\u001b[0m\u001b[0;31m:\u001b[0m invalid syntax\n"
     ]
    }
   ],
   "source": [
    "1jose=23"
   ]
  },
  {
   "cell_type": "code",
   "execution_count": 13,
   "metadata": {},
   "outputs": [],
   "source": [
    "edad=23"
   ]
  },
  {
   "cell_type": "code",
   "execution_count": 14,
   "metadata": {},
   "outputs": [],
   "source": [
    "x=23"
   ]
  },
  {
   "cell_type": "markdown",
   "metadata": {},
   "source": [
    "Aqui es la teoria"
   ]
  },
  {
   "cell_type": "code",
   "execution_count": 15,
   "metadata": {},
   "outputs": [],
   "source": [
    "#aqui detalle de codigo\n",
    "var=12"
   ]
  },
  {
   "cell_type": "code",
   "execution_count": 16,
   "metadata": {},
   "outputs": [
    {
     "data": {
      "text/plain": [
       "[2]"
      ]
     },
     "execution_count": 16,
     "metadata": {},
     "output_type": "execute_result"
    }
   ],
   "source": [
    "[2]"
   ]
  },
  {
   "cell_type": "code",
   "execution_count": 17,
   "metadata": {},
   "outputs": [
    {
     "ename": "TypeError",
     "evalue": "can only concatenate list (not \"int\") to list",
     "output_type": "error",
     "traceback": [
      "\u001b[0;31m---------------------------------------------------------------------------\u001b[0m",
      "\u001b[0;31mTypeError\u001b[0m                                 Traceback (most recent call last)",
      "\u001b[0;32m<ipython-input-17-135241f656c7>\u001b[0m in \u001b[0;36m<module>\u001b[0;34m()\u001b[0m\n\u001b[0;32m----> 1\u001b[0;31m \u001b[0;34m[\u001b[0m\u001b[0;36m2\u001b[0m\u001b[0;34m]\u001b[0m\u001b[0;34m+\u001b[0m\u001b[0;36m1\u001b[0m\u001b[0;34m\u001b[0m\u001b[0;34m\u001b[0m\u001b[0m\n\u001b[0m",
      "\u001b[0;31mTypeError\u001b[0m: can only concatenate list (not \"int\") to list"
     ]
    }
   ],
   "source": [
    "[2]+1"
   ]
  },
  {
   "cell_type": "code",
   "execution_count": 18,
   "metadata": {},
   "outputs": [],
   "source": [
    "x=[2]"
   ]
  },
  {
   "cell_type": "code",
   "execution_count": 19,
   "metadata": {},
   "outputs": [
    {
     "ename": "TypeError",
     "evalue": "can only concatenate list (not \"int\") to list",
     "output_type": "error",
     "traceback": [
      "\u001b[0;31m---------------------------------------------------------------------------\u001b[0m",
      "\u001b[0;31mTypeError\u001b[0m                                 Traceback (most recent call last)",
      "\u001b[0;32m<ipython-input-19-d9a77b2c0933>\u001b[0m in \u001b[0;36m<module>\u001b[0;34m()\u001b[0m\n\u001b[0;32m----> 1\u001b[0;31m \u001b[0mx\u001b[0m\u001b[0;34m+\u001b[0m\u001b[0;36m1\u001b[0m\u001b[0;34m\u001b[0m\u001b[0;34m\u001b[0m\u001b[0m\n\u001b[0m",
      "\u001b[0;31mTypeError\u001b[0m: can only concatenate list (not \"int\") to list"
     ]
    }
   ],
   "source": [
    "x+1"
   ]
  },
  {
   "cell_type": "code",
   "execution_count": 20,
   "metadata": {},
   "outputs": [
    {
     "data": {
      "text/plain": [
       "3"
      ]
     },
     "execution_count": 20,
     "metadata": {},
     "output_type": "execute_result"
    }
   ],
   "source": [
    "x[0]+1"
   ]
  },
  {
   "cell_type": "code",
   "execution_count": 21,
   "metadata": {},
   "outputs": [
    {
     "ename": "NameError",
     "evalue": "name 'z' is not defined",
     "output_type": "error",
     "traceback": [
      "\u001b[0;31m---------------------------------------------------------------------------\u001b[0m",
      "\u001b[0;31mNameError\u001b[0m                                 Traceback (most recent call last)",
      "\u001b[0;32m<ipython-input-21-bae8862eac4d>\u001b[0m in \u001b[0;36m<module>\u001b[0;34m()\u001b[0m\n\u001b[0;32m----> 1\u001b[0;31m \u001b[0mz\u001b[0m\u001b[0;34m+\u001b[0m\u001b[0;36m1\u001b[0m\u001b[0;34m\u001b[0m\u001b[0;34m\u001b[0m\u001b[0m\n\u001b[0m",
      "\u001b[0;31mNameError\u001b[0m: name 'z' is not defined"
     ]
    }
   ],
   "source": [
    "z+1"
   ]
  },
  {
   "cell_type": "code",
   "execution_count": 22,
   "metadata": {},
   "outputs": [],
   "source": [
    "z=1"
   ]
  },
  {
   "cell_type": "code",
   "execution_count": 23,
   "metadata": {},
   "outputs": [
    {
     "data": {
      "text/plain": [
       "int"
      ]
     },
     "execution_count": 23,
     "metadata": {},
     "output_type": "execute_result"
    }
   ],
   "source": [
    "type(z)"
   ]
  },
  {
   "cell_type": "code",
   "execution_count": 24,
   "metadata": {},
   "outputs": [
    {
     "data": {
      "text/plain": [
       "list"
      ]
     },
     "execution_count": 24,
     "metadata": {},
     "output_type": "execute_result"
    }
   ],
   "source": [
    "type(x)"
   ]
  },
  {
   "cell_type": "code",
   "execution_count": 25,
   "metadata": {},
   "outputs": [
    {
     "data": {
      "text/plain": [
       "int"
      ]
     },
     "execution_count": 25,
     "metadata": {},
     "output_type": "execute_result"
    }
   ],
   "source": [
    "type(x[0])"
   ]
  },
  {
   "cell_type": "code",
   "execution_count": 48,
   "metadata": {},
   "outputs": [],
   "source": [
    "dataMichelle1={'Nombre en español':'Verónica Michelle Bachelet Jeria',\n",
    "'Nacimiento':'29 de septiembre de 1951 (67 años) Santiago, Chile',\n",
    "'Residencia':'Santiago, Chile',\n",
    "'Nacionalidad':'Chilena',\n",
    "'Lengua materna':'Español',\n",
    "'Religión':'Agnosticismo',\n",
    "'Partido político':'Partido Socialista',\n",
    "'Padres':'Ángela Jeria Gómez, Alberto Bachelet Martínez',\n",
    "'Cónyuge':'Jorge Dávalos Cartes (1979-1984)',\n",
    "'Hijos':'Sebastián, Francisca y Sofía',\n",
    "'Educada en':'Universidad de Chile',\n",
    "'Ocupación':'Médico'}"
   ]
  },
  {
   "cell_type": "code",
   "execution_count": 46,
   "metadata": {},
   "outputs": [
    {
     "data": {
      "text/plain": [
       "{'Cónyuge': 'Jorge Dávalos Cartes (1979-1984)',\n",
       " 'Educada en': 'Universidad de Chile',\n",
       " 'Hijos': 'Sebastián, Francisca y Sofía',\n",
       " 'Lengua materna': 'Español',\n",
       " 'Nacimiento': '29 de septiembre de 1951 (67 años) Santiago, Chile',\n",
       " 'Nacionalidad': 'Chilena',\n",
       " 'Nombre en español': 'Verónica Michelle Bachelet Jeria',\n",
       " 'Ocupación': 'Médico',\n",
       " 'Padres': 'Ángela Jeria Gómez, Alberto Bachelet Martínez',\n",
       " 'Partido político': 'Partido Socialista',\n",
       " 'Religión': 'Agnosticismo',\n",
       " 'Residencia': 'Santiago, Chile'}"
      ]
     },
     "execution_count": 46,
     "metadata": {},
     "output_type": "execute_result"
    }
   ],
   "source": [
    "dataMichelle1"
   ]
  },
  {
   "cell_type": "code",
   "execution_count": 49,
   "metadata": {},
   "outputs": [],
   "source": [
    "dataMichelle2={'informacion personal':\n",
    "               {'Nombre en español':'Verónica Michelle Bachelet Jeria',\n",
    "                'Nacimiento':'29 de septiembre de 1951 (67 años) Santiago, Chile',\n",
    "                'Residencia':'Santiago, Chile',\n",
    "                'Nacionalidad':'Chilena',\n",
    "                'Lengua materna':'Español',\n",
    "                'Religión':'Agnosticismo',\n",
    "                'Partido político':'Partido Socialista'},\n",
    "               'informacion familiar':\n",
    "               {'Padres':'Ángela Jeria Gómez, Alberto Bachelet Martínez',\n",
    "                'Cónyuge':'Jorge Dávalos Cartes (1979-1984)',\n",
    "                'Hijos':'Sebastián, Francisca y Sofía'},\n",
    "               'informacion profesional':\n",
    "               {'Educada en':'Universidad de Chile',\n",
    "                'Ocupación':'Médico'}}"
   ]
  },
  {
   "cell_type": "code",
   "execution_count": 50,
   "metadata": {},
   "outputs": [
    {
     "data": {
      "text/plain": [
       "{'informacion familiar': {'Cónyuge': 'Jorge Dávalos Cartes (1979-1984)',\n",
       "  'Hijos': 'Sebastián, Francisca y Sofía',\n",
       "  'Padres': 'Ángela Jeria Gómez, Alberto Bachelet Martínez'},\n",
       " 'informacion personal': {'Lengua materna': 'Español',\n",
       "  'Nacimiento': '29 de septiembre de 1951 (67 años) Santiago, Chile',\n",
       "  'Nacionalidad': 'Chilena',\n",
       "  'Nombre en español': 'Verónica Michelle Bachelet Jeria',\n",
       "  'Partido político': 'Partido Socialista',\n",
       "  'Religión': 'Agnosticismo',\n",
       "  'Residencia': 'Santiago, Chile'},\n",
       " 'informacion profesional': {'Educada en': 'Universidad de Chile',\n",
       "  'Ocupación': 'Médico'}}"
      ]
     },
     "execution_count": 50,
     "metadata": {},
     "output_type": "execute_result"
    }
   ],
   "source": [
    "dataMichelle2"
   ]
  },
  {
   "cell_type": "code",
   "execution_count": 51,
   "metadata": {},
   "outputs": [],
   "source": [
    "infoPersonal={'Nombre en español':'Verónica Michelle Bachelet Jeria',\n",
    "                'Nacimiento':'29 de septiembre de 1951 (67 años) Santiago, Chile',\n",
    "                'Residencia':'Santiago, Chile',\n",
    "                'Nacionalidad':'Chilena',\n",
    "                'Lengua materna':'Español',\n",
    "                'Religión':'Agnosticismo',\n",
    "                'Partido político':'Partido Socialista'}\n",
    "infoFamiliar={'Padres':'Ángela Jeria Gómez, Alberto Bachelet Martínez',\n",
    "                'Cónyuge':'Jorge Dávalos Cartes (1979-1984)',\n",
    "                'Hijos':'Sebastián, Francisca y Sofía'}\n",
    "\n",
    "infoProfesional={'Educada en':'Universidad de Chile',\n",
    "                'Ocupación':'Médico'}\n",
    "\n",
    "\n",
    "dataMichelle3={'informacion personal':infoPersonal,\n",
    "               'informacion familiar':infoFamiliar,\n",
    "               'informacion profesional':infoProfesional\n",
    "               }"
   ]
  },
  {
   "cell_type": "code",
   "execution_count": 52,
   "metadata": {},
   "outputs": [
    {
     "data": {
      "text/plain": [
       "{'informacion familiar': {'Cónyuge': 'Jorge Dávalos Cartes (1979-1984)',\n",
       "  'Hijos': 'Sebastián, Francisca y Sofía',\n",
       "  'Padres': 'Ángela Jeria Gómez, Alberto Bachelet Martínez'},\n",
       " 'informacion personal': {'Lengua materna': 'Español',\n",
       "  'Nacimiento': '29 de septiembre de 1951 (67 años) Santiago, Chile',\n",
       "  'Nacionalidad': 'Chilena',\n",
       "  'Nombre en español': 'Verónica Michelle Bachelet Jeria',\n",
       "  'Partido político': 'Partido Socialista',\n",
       "  'Religión': 'Agnosticismo',\n",
       "  'Residencia': 'Santiago, Chile'},\n",
       " 'informacion profesional': {'Educada en': 'Universidad de Chile',\n",
       "  'Ocupación': 'Médico'}}"
      ]
     },
     "execution_count": 52,
     "metadata": {},
     "output_type": "execute_result"
    }
   ],
   "source": [
    "dataMichelle3"
   ]
  },
  {
   "cell_type": "code",
   "execution_count": 53,
   "metadata": {},
   "outputs": [],
   "source": [
    "todoNombre={'primerNom':'Verónica','segundoNom': 'Michelle',\n",
    "            'ape_paterno': 'Bachelet','ape_materno':'Jeria'}\n",
    "\n",
    "padresBache={'papa':'Alberto Bachelet Martínez','mama':'Ángela Jeria Gómez'}\n",
    "parejaBache=['Jorge Dávalos Cartes (1979-1984)']\n",
    "hijosBache=['Sebastián', 'Francisca', 'Sofía']\n",
    "\n",
    "infoPersonal={'Nombre en español':todoNombre,\n",
    "                'Nacimiento':'29 de septiembre de 1951 (67 años) Santiago, Chile',\n",
    "                'Residencia':'Santiago, Chile',\n",
    "                'Nacionalidad':'Chilena',\n",
    "                'Lengua materna':'Español',\n",
    "                'Religión':'Agnosticismo',\n",
    "                'Partido político':'Partido Socialista'}\n",
    "infoFamiliar={'Padres':padresBache,\n",
    "                'Cónyuge':parejaBache,\n",
    "                'Hijos':hijosBache}\n",
    "\n",
    "infoProfesional={'Educada en':'Universidad de Chile',\n",
    "                'Ocupación':'Médico'}\n",
    "dataMichelle4={'informacion personal':infoPersonal,\n",
    "               'informacion familiar':infoFamiliar,\n",
    "               'informacion profesional':infoProfesional\n",
    "               }"
   ]
  },
  {
   "cell_type": "code",
   "execution_count": 54,
   "metadata": {},
   "outputs": [
    {
     "data": {
      "text/plain": [
       "{'informacion familiar': {'Cónyuge': ['Jorge Dávalos Cartes (1979-1984)'],\n",
       "  'Hijos': ['Sebastián', 'Francisca', 'Sofía'],\n",
       "  'Padres': {'mama': 'Ángela Jeria Gómez',\n",
       "   'papa': 'Alberto Bachelet Martínez'}},\n",
       " 'informacion personal': {'Lengua materna': 'Español',\n",
       "  'Nacimiento': '29 de septiembre de 1951 (67 años) Santiago, Chile',\n",
       "  'Nacionalidad': 'Chilena',\n",
       "  'Nombre en español': {'ape_materno': 'Jeria',\n",
       "   'ape_paterno': 'Bachelet',\n",
       "   'primerNom': 'Verónica',\n",
       "   'segundoNom': 'Michelle'},\n",
       "  'Partido político': 'Partido Socialista',\n",
       "  'Religión': 'Agnosticismo',\n",
       "  'Residencia': 'Santiago, Chile'},\n",
       " 'informacion profesional': {'Educada en': 'Universidad de Chile',\n",
       "  'Ocupación': 'Médico'}}"
      ]
     },
     "execution_count": 54,
     "metadata": {},
     "output_type": "execute_result"
    }
   ],
   "source": [
    "dataMichelle4"
   ]
  },
  {
   "cell_type": "code",
   "execution_count": 55,
   "metadata": {},
   "outputs": [
    {
     "data": {
      "text/plain": [
       "32"
      ]
     },
     "execution_count": 55,
     "metadata": {},
     "output_type": "execute_result"
    }
   ],
   "source": [
    "len('Jorge Dávalos Cartes (1979-1984)')"
   ]
  },
  {
   "cell_type": "code",
   "execution_count": 59,
   "metadata": {},
   "outputs": [
    {
     "data": {
      "text/plain": [
       "1"
      ]
     },
     "execution_count": 59,
     "metadata": {},
     "output_type": "execute_result"
    }
   ],
   "source": [
    "len(dataMichelle4['informacion familiar']['Cónyuge'])"
   ]
  },
  {
   "cell_type": "code",
   "execution_count": 60,
   "metadata": {},
   "outputs": [
    {
     "data": {
      "text/plain": [
       "3"
      ]
     },
     "execution_count": 60,
     "metadata": {},
     "output_type": "execute_result"
    }
   ],
   "source": [
    "len(dataMichelle)"
   ]
  },
  {
   "cell_type": "code",
   "execution_count": null,
   "metadata": {},
   "outputs": [],
   "source": []
  }
 ],
 "metadata": {
  "hide_input": false,
  "kernelspec": {
   "display_name": "Python 3",
   "language": "python",
   "name": "python3"
  },
  "language_info": {
   "codemirror_mode": {
    "name": "ipython",
    "version": 3
   },
   "file_extension": ".py",
   "mimetype": "text/x-python",
   "name": "python",
   "nbconvert_exporter": "python",
   "pygments_lexer": "ipython3",
   "version": "3.6.8"
  }
 },
 "nbformat": 4,
 "nbformat_minor": 2
}
